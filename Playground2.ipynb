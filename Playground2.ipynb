{
 "cells": [
  {
   "cell_type": "code",
   "execution_count": 1,
   "metadata": {},
   "outputs": [
    {
     "name": "stdout",
     "output_type": "stream",
     "text": [
      "['/oilmarketreport/reports/2018/', '/oilmarketreport/reports/2017/', '/oilmarketreport/reports/2016/', '/oilmarketreport/reports/2015/', '/oilmarketreport/reports/2014/', '/oilmarketreport/reports/2013/', '/oilmarketreport/reports/2012/', '/oilmarketreport/reports/2011/', '/oilmarketreport/reports/2010/', '/oilmarketreport/reports/2009/', '/oilmarketreport/reports/2008/', '/oilmarketreport/reports/2007/', '/oilmarketreport/reports/archives/?year=2006', '/oilmarketreport/reports/archives/?year=2005', '/oilmarketreport/reports/archives/?year=2004', '/oilmarketreport/reports/archives/?year=2003', '/oilmarketreport/reports/archives/?year=2002', '/oilmarketreport/reports/archives/?year=2001', '/oilmarketreport/reports/archives/?year=2000', '/oilmarketreport/reports/archives/?year=1999', '/oilmarketreport/reports/archives/?year=1998', '/oilmarketreport/reports/archives/?year=1997', '/oilmarketreport/reports/archives/?year=1996', '/oilmarketreport/reports/archives/?year=1995', '/oilmarketreport/reports/archives/?year=1994', '/oilmarketreport/reports/archives/?year=1993', '/oilmarketreport/reports/archives/?year=1992', '/oilmarketreport/reports/archives/?year=1991', '/oilmarketreport/reports/archives/?year=1990']\n"
     ]
    }
   ],
   "source": [
    "from bs4 import BeautifulSoup\n",
    "import requests\n",
    "url = 'https://www.iea.org/oilmarketreport/reports/'\n",
    "page = requests.get(url)\n",
    "\n",
    "soup = BeautifulSoup(page.text, 'html.parser')\n",
    "#soup.prettify()\n",
    "#table = soup.find(\"table\")\n",
    "#print(table)\n",
    "links = []\n",
    "for href in soup.find_all(class_='omrlist'):\n",
    "    #print(href)\n",
    "    links.append(href.find('a').get('href'))\n",
    "print(links) "
   ]
  },
  {
   "cell_type": "code",
   "execution_count": 2,
   "metadata": {},
   "outputs": [
    {
     "data": {
      "text/plain": [
       "'/oilmarketreport/reports/2007/'"
      ]
     },
     "execution_count": 2,
     "metadata": {},
     "output_type": "execute_result"
    }
   ],
   "source": [
    "links[11]"
   ]
  },
  {
   "cell_type": "code",
   "execution_count": null,
   "metadata": {},
   "outputs": [],
   "source": []
  },
  {
   "cell_type": "code",
   "execution_count": 3,
   "metadata": {},
   "outputs": [],
   "source": [
    "import pandas as pd\n",
    "#CREATE GENERIC DATAFRAME\n",
    "df = {'account': ['Alpha', 'Beta', 'Gamma', 'Epsilon'],\n",
    "      'Type': ['red','blue','red','blue'],\n",
    "         'Jan': [150, 200, 50, 40],\n",
    "         'Feb': [200, 210, 90, 30],\n",
    "         'Mar': [140, 215, 95, 60],\n",
    "         'Apr': [150, 190, 75, 20]}\n",
    "df = pd.DataFrame.from_dict(df)\n",
    "\n",
    "#filter for blue types only\n",
    "df_blue = df[df['Type'] == 'blue']\n",
    "\n",
    "#get averages for blue types\n",
    "blue_series = df_blue.mean()\n",
    "\n",
    "#create a dataframe for blue types\n",
    "blue_df = blue_series.to_frame()\n",
    "blue_df = blue_df.rename(columns = {0:'blue'})\n",
    "\n",
    "#repeat above for red types\n",
    "df_red = df[df['Type'] == 'red']\n",
    "red_series = df_red.mean()\n",
    "red_df = red_series.to_frame()\n",
    "red_df = red_df.rename(columns = {0:'red'})\n",
    "\n",
    "#CONCATENATE BLUE AND RED DATAFRAMES\n",
    "final_df = pd.concat([blue_df, red_df],axis=1)"
   ]
  },
  {
   "cell_type": "code",
   "execution_count": 4,
   "metadata": {},
   "outputs": [
    {
     "data": {
      "text/html": [
       "<div>\n",
       "<style scoped>\n",
       "    .dataframe tbody tr th:only-of-type {\n",
       "        vertical-align: middle;\n",
       "    }\n",
       "\n",
       "    .dataframe tbody tr th {\n",
       "        vertical-align: top;\n",
       "    }\n",
       "\n",
       "    .dataframe thead th {\n",
       "        text-align: right;\n",
       "    }\n",
       "</style>\n",
       "<table border=\"1\" class=\"dataframe\">\n",
       "  <thead>\n",
       "    <tr style=\"text-align: right;\">\n",
       "      <th></th>\n",
       "      <th>account</th>\n",
       "      <th>Type</th>\n",
       "      <th>Jan</th>\n",
       "      <th>Feb</th>\n",
       "      <th>Mar</th>\n",
       "      <th>Apr</th>\n",
       "    </tr>\n",
       "  </thead>\n",
       "  <tbody>\n",
       "    <tr>\n",
       "      <th>0</th>\n",
       "      <td>Alpha</td>\n",
       "      <td>red</td>\n",
       "      <td>150</td>\n",
       "      <td>200</td>\n",
       "      <td>140</td>\n",
       "      <td>150</td>\n",
       "    </tr>\n",
       "    <tr>\n",
       "      <th>1</th>\n",
       "      <td>Beta</td>\n",
       "      <td>blue</td>\n",
       "      <td>200</td>\n",
       "      <td>210</td>\n",
       "      <td>215</td>\n",
       "      <td>190</td>\n",
       "    </tr>\n",
       "    <tr>\n",
       "      <th>2</th>\n",
       "      <td>Gamma</td>\n",
       "      <td>red</td>\n",
       "      <td>50</td>\n",
       "      <td>90</td>\n",
       "      <td>95</td>\n",
       "      <td>75</td>\n",
       "    </tr>\n",
       "    <tr>\n",
       "      <th>3</th>\n",
       "      <td>Epsilon</td>\n",
       "      <td>blue</td>\n",
       "      <td>40</td>\n",
       "      <td>30</td>\n",
       "      <td>60</td>\n",
       "      <td>20</td>\n",
       "    </tr>\n",
       "  </tbody>\n",
       "</table>\n",
       "</div>"
      ],
      "text/plain": [
       "   account  Type  Jan  Feb  Mar  Apr\n",
       "0    Alpha   red  150  200  140  150\n",
       "1     Beta  blue  200  210  215  190\n",
       "2    Gamma   red   50   90   95   75\n",
       "3  Epsilon  blue   40   30   60   20"
      ]
     },
     "execution_count": 4,
     "metadata": {},
     "output_type": "execute_result"
    }
   ],
   "source": [
    "df\n"
   ]
  },
  {
   "cell_type": "code",
   "execution_count": 5,
   "metadata": {},
   "outputs": [
    {
     "name": "stdout",
     "output_type": "stream",
     "text": [
      "       red   blue\n",
      "Jan  100.0  120.0\n",
      "Feb  145.0  120.0\n",
      "Mar  117.5  137.5\n",
      "Apr  112.5  105.0\n"
     ]
    }
   ],
   "source": [
    "means_df = pd.DataFrame()\n",
    "for color in ['red', 'blue']:\n",
    "    dff = df[df['Type']==color]\n",
    "    means = dff.mean(0).to_frame().rename(columns={0:color})\n",
    "    means_df = pd.concat([means_df, means], 1)\n",
    "print(means_df)"
   ]
  },
  {
   "cell_type": "code",
   "execution_count": 6,
   "metadata": {},
   "outputs": [
    {
     "data": {
      "text/html": [
       "<div>\n",
       "<style scoped>\n",
       "    .dataframe tbody tr th:only-of-type {\n",
       "        vertical-align: middle;\n",
       "    }\n",
       "\n",
       "    .dataframe tbody tr th {\n",
       "        vertical-align: top;\n",
       "    }\n",
       "\n",
       "    .dataframe thead th {\n",
       "        text-align: right;\n",
       "    }\n",
       "</style>\n",
       "<table border=\"1\" class=\"dataframe\">\n",
       "  <thead>\n",
       "    <tr style=\"text-align: right;\">\n",
       "      <th>Type</th>\n",
       "      <th>blue</th>\n",
       "      <th>red</th>\n",
       "    </tr>\n",
       "  </thead>\n",
       "  <tbody>\n",
       "    <tr>\n",
       "      <th>Jan</th>\n",
       "      <td>120.0</td>\n",
       "      <td>100.0</td>\n",
       "    </tr>\n",
       "    <tr>\n",
       "      <th>Feb</th>\n",
       "      <td>120.0</td>\n",
       "      <td>145.0</td>\n",
       "    </tr>\n",
       "    <tr>\n",
       "      <th>Mar</th>\n",
       "      <td>137.5</td>\n",
       "      <td>117.5</td>\n",
       "    </tr>\n",
       "    <tr>\n",
       "      <th>Apr</th>\n",
       "      <td>105.0</td>\n",
       "      <td>112.5</td>\n",
       "    </tr>\n",
       "  </tbody>\n",
       "</table>\n",
       "</div>"
      ],
      "text/plain": [
       "Type   blue    red\n",
       "Jan   120.0  100.0\n",
       "Feb   120.0  145.0\n",
       "Mar   137.5  117.5\n",
       "Apr   105.0  112.5"
      ]
     },
     "execution_count": 6,
     "metadata": {},
     "output_type": "execute_result"
    }
   ],
   "source": [
    "df.groupby('Type').mean().T"
   ]
  },
  {
   "cell_type": "code",
   "execution_count": null,
   "metadata": {},
   "outputs": [],
   "source": []
  }
 ],
 "metadata": {
  "kernelspec": {
   "display_name": "Python 3",
   "language": "python",
   "name": "python3"
  },
  "language_info": {
   "codemirror_mode": {
    "name": "ipython",
    "version": 3
   },
   "file_extension": ".py",
   "mimetype": "text/x-python",
   "name": "python",
   "nbconvert_exporter": "python",
   "pygments_lexer": "ipython3",
   "version": "3.6.5"
  }
 },
 "nbformat": 4,
 "nbformat_minor": 2
}
