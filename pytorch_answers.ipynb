{
 "cells": [
  {
   "cell_type": "code",
   "execution_count": 1,
   "metadata": {},
   "outputs": [
    {
     "name": "stdout",
     "output_type": "stream",
     "text": [
      "10\n"
     ]
    }
   ],
   "source": [
    "# Code to figure:\n",
    "# For the second example, where the line is described by 3x1+ 4x2 - 10 = 0, if the \n",
    "# learning rate was set to 0.1, how many times would you have to apply the perceptron \n",
    "# trick to move the line to a position where the blue point, at (1, 1), is correctly \n",
    "# classified?\n",
    "\n",
    "# Set the initial parameters:\n",
    "learn_rate = 0.1\n",
    "x1 = 1\n",
    "x2 = 1\n",
    "a = 3\n",
    "b = 4\n",
    "c = -10\n",
    "\n",
    "# Set counter to 0\n",
    "count = 0\n",
    "# increase c by one since it is already there\n",
    "c +=learn_rate\n",
    "# Do the loop\n",
    "while (a*x1 + b*x2 + c) <= 0:\n",
    "    a += (learn_rate * x1)\n",
    "    b += (learn_rate * x2)\n",
    "    c += learn_rate\n",
    "    count += 1\n",
    "print(count)"
   ]
  },
  {
   "cell_type": "code",
   "execution_count": null,
   "metadata": {},
   "outputs": [],
   "source": []
  }
 ],
 "metadata": {
  "kernelspec": {
   "display_name": "Python 3",
   "language": "python",
   "name": "python3"
  },
  "language_info": {
   "codemirror_mode": {
    "name": "ipython",
    "version": 3
   },
   "file_extension": ".py",
   "mimetype": "text/x-python",
   "name": "python",
   "nbconvert_exporter": "python",
   "pygments_lexer": "ipython3",
   "version": "3.6.5"
  }
 },
 "nbformat": 4,
 "nbformat_minor": 2
}
