{
 "cells": [
  {
   "cell_type": "markdown",
   "metadata": {},
   "source": [
    "https://stackoverflow.com/questions/53805431/multiple-if-conditions-in-f-strings-and-generate-dynamic-text"
   ]
  },
  {
   "cell_type": "code",
   "execution_count": null,
   "metadata": {},
   "outputs": [],
   "source": [
    "raw_data = {'Sub1':['A','B','C','D','E'],\n",
    "            'Sub2':['F','G','H','I','J'],\n",
    "            'Sub3':['K','L','M','N','O'],\n",
    "    'S_score1': [1, 0, 0, 6,0], \n",
    "    'F_score1' : [0, 1,0,0,0],\n",
    "    'L_score1' : [1,2,3,0,4],\n",
    "    'S_score2': [0, 1, 0, 6,0], \n",
    "    'F_score2' : [0, 1,0,0,0],\n",
    "    'L_score2' : [1,2,3,0,4],\n",
    "    'S_score3': [0, 1, 0, 6,0], \n",
    "    'F_score3' : [0, 1,0,0,0],\n",
    "    'L_score3' : [1,2,3,0,4]}\n",
    "\n",
    "df2 = pd.DataFrame(raw_data, columns = ['Sub1','Sub2','Sub3','S_score1', 'F_score1','L_score1','S_score2', 'F_score2','L_score2','S_score3', 'F_score3','L_score3'])"
   ]
  },
  {
   "cell_type": "code",
   "execution_count": null,
   "metadata": {},
   "outputs": [],
   "source": [
    "import re\n",
    "letters = ['S', 'F', 'L']\n",
    "for letter in letters:\n",
    "    for row in range(0, len(df2)):\n",
    "        df_ = df2[[letter+'_score1', letter+'_score2', letter+'_score3']].iloc[row:row+1,0:3]\n",
    "        row_string = ''\n",
    "        for col in df_.columns:\n",
    "            if df_[col][row] >= 1:\n",
    "                row_string = row_string + ', '+ str(df2.iloc[row][df_.columns.get_loc(col)])\n",
    "            row_string = re.sub(r'^,', '', row_string)\n",
    "        if row_string == '':\n",
    "            df2.loc[row:,letter+'_text'] = 'You have not Scored any subject'\n",
    "        else:\n",
    "            df2.loc[row:,letter+'_text'] = 'You have scored on' + row_string\n",
    "display(df2)"
   ]
  },
  {
   "cell_type": "code",
   "execution_count": null,
   "metadata": {},
   "outputs": [],
   "source": [
    "import re\n",
    "def score_summary(df):\n",
    "    letters = ['S', 'F', 'L']\n",
    "    for letter in letters:\n",
    "        for row in range(0, len(df)):\n",
    "            df_ = df[[letter+'_score1', letter+'_score2', letter+'_score3']].iloc[row:row+1,0:3]\n",
    "            row_string = ''\n",
    "            for col in df_.columns:\n",
    "                if df_[col][row] >= 1:\n",
    "                    row_string = row_string + ', '+ str(df.iloc[row][df_.columns.get_loc(col)])\n",
    "                row_string = re.sub(r'^,', '', row_string)\n",
    "            if row_string == '':\n",
    "                df.loc[row:,letter+'_text'] = 'You have not Scored any subject'\n",
    "            else:\n",
    "                df.loc[row:,letter+'_text'] = 'You have scored on' + row_string\n",
    "            \n",
    "    return df\n",
    "    "
   ]
  },
  {
   "cell_type": "code",
   "execution_count": null,
   "metadata": {},
   "outputs": [],
   "source": [
    "import re\n",
    "def score_summary1(df):\n",
    "    letters = ['S', 'F', 'L']\n",
    "    for letter in letters:\n",
    "        for row in range(0, len(df)):\n",
    "            df_ = df[[letter+'_score1', letter+'_score2', letter+'_score3']].iloc[row:row+1,0:3]\n",
    "            row_string = ''\n",
    "            for col in df_.columns:\n",
    "                a = [ row_string + ', '+ str(df.iloc[row][df_.columns.get_loc(col)])]\n",
    "                print(col, a)\n",
    "                if df_[col][row] >= 1:\n",
    "                    row_string = row_string + ', '+ str(df.iloc[row][df_.columns.get_loc(col)])\n",
    "                row_string = re.sub(r'^,', '', row_string)\n",
    "            if row_string == '':\n",
    "                df.loc[row:,letter+'_text'] = 'You have not Scored any subject'\n",
    "            else:\n",
    "                df.loc[row:,letter+'_text'] = 'You have scored on' + row_string\n",
    "            \n",
    "    return df\n",
    "    "
   ]
  },
  {
   "cell_type": "code",
   "execution_count": null,
   "metadata": {},
   "outputs": [],
   "source": [
    "score_summary1(df2)"
   ]
  },
  {
   "cell_type": "code",
   "execution_count": null,
   "metadata": {},
   "outputs": [],
   "source": [
    "import pandas as pd\n",
    "import numpy as np\n",
    "\n",
    "raw_data = {'Sub1':['A','B','C','D','E'],\n",
    "            'Sub2':['F','G','H','I','J'],\n",
    "            'Sub3':['K','L','M','N','O'],\n",
    "    'S_score1': [1, 0, 0, 6,0], \n",
    "    'F_score1' : [0, 1,0,0,0],\n",
    "    'L_score1' : [1,2,3,0,4],\n",
    "    'S_score2': [0, 0, 0, 6,0], \n",
    "    'F_score2' : [0, 1,0,0,0],\n",
    "    'L_score2' : [1,2,3,0,4],\n",
    "    'S_score3': [0, 0, 0, 6,0], \n",
    "    'F_score3' : [0, 1,0,0,0],\n",
    "    'L_score3' : [1,2,3,0,4]}\n",
    "\n",
    "df2 = pd.DataFrame(raw_data, columns = ['Sub1','Sub2','Sub3','S_score1', 'F_score1','L_score1','S_score2', 'F_score2','L_score2','S_score3', 'F_score3','L_score3'])\n",
    "\n",
    "def S_text(f):\n",
    "    s_text = \"You have scored on {}\" .format(f['Sub1']) if f['S_score1'] >= 1 else \"You have scored on {}\" .format(f['Sub2'])\n",
    "    return s_text\n",
    "\n",
    "def F_text(f):\n",
    "    f_text = \"You have scored on {}\" .format(f['Sub1']) if f['F_score1'] >= 1 else \"You have scored on {}\" .format(f['Sub2'])\n",
    "    return f_text\n",
    "\n",
    "def L_text(f):\n",
    "    l_text = \"You have scored on {}\" .format(f['Sub1']) if f['L_score1'] >= 1 else \"You have scored on {}\" .format(f['Sub2'])\n",
    "    return l_text\n",
    "\n",
    "#df2['s_texte'] = df2.apply(S_text, axis=1)\n",
    "#df2['f_text'] = df2.apply(F_text, axis=1)\n",
    "#df2['l_text'] = df2.apply(L_text, axis=1)\n",
    "df2"
   ]
  },
  {
   "cell_type": "code",
   "execution_count": null,
   "metadata": {},
   "outputs": [],
   "source": [
    "[df.columns.get_loc(c) for c in df.columns if c in cols]"
   ]
  },
  {
   "cell_type": "code",
   "execution_count": null,
   "metadata": {},
   "outputs": [],
   "source": [
    "import re\n",
    "for row in range(0,len(df2)):\n",
    "    row_string = ''\n",
    "    df_ = df2[['S_score1', 'S_score2', 'S_score3']].iloc[row:row+1,0:3]\n",
    "    for col in df_.columns:\n",
    "        if df_[col][row] >= 1:\n",
    "            row_string = row_string + ', '+ str(df2.iloc[row][df_.columns.get_loc(col)])\n",
    "    row_string = re.sub(r'^,', '', row_string)\n",
    "    if row_string == '':\n",
    "        df2.loc[row:,'s_text'] = 'No score higher than 1' + row_string\n",
    "    else:\n",
    "        df2.loc[row:,'s_text'] = 'You have scored on:' + row_string\n",
    "df2"
   ]
  },
  {
   "cell_type": "code",
   "execution_count": null,
   "metadata": {},
   "outputs": [],
   "source": [
    "df = df2[['S_score1', 'S_score2', 'S_score3']]\n",
    "cols = ['S_score1', 'S_score2', 'S_score3']\n",
    "[(df2.iloc[rows][df.columns.get_loc(c)]) for c in df.columns if c in cols for rows in range(0, len(df2))]\n",
    "\n",
    "#df2.iloc[row][df_.columns.get_loc(col)]"
   ]
  },
  {
   "cell_type": "code",
   "execution_count": null,
   "metadata": {},
   "outputs": [],
   "source": [
    "row"
   ]
  },
  {
   "cell_type": "code",
   "execution_count": null,
   "metadata": {},
   "outputs": [],
   "source": []
  },
  {
   "cell_type": "code",
   "execution_count": null,
   "metadata": {},
   "outputs": [],
   "source": [
    "def sumita(x):\n",
    "    \n",
    "    return (x)"
   ]
  },
  {
   "cell_type": "code",
   "execution_count": null,
   "metadata": {},
   "outputs": [],
   "source": [
    "df2[['S_score1', 'S_score2', 'S_score3']].apply(lambda x: sumita(x), axis=1)"
   ]
  },
  {
   "cell_type": "code",
   "execution_count": null,
   "metadata": {},
   "outputs": [],
   "source": [
    "df2[['S_score1', 'S_score2', 'S_score3']].apply(lambda x: x.idxmax(), axis = 1)"
   ]
  },
  {
   "cell_type": "code",
   "execution_count": null,
   "metadata": {},
   "outputs": [],
   "source": []
  },
  {
   "cell_type": "code",
   "execution_count": null,
   "metadata": {},
   "outputs": [],
   "source": [
    "Cat_1 Cat_1 Cat_2 Cat_2\n",
    "sub-cat_1  sub-cat_2 sub-cat_1 sub-cat_2 \n",
    "metric_one 10         20            1          2\n",
    "metric_two 15         10            3          4"
   ]
  },
  {
   "cell_type": "code",
   "execution_count": null,
   "metadata": {},
   "outputs": [],
   "source": [
    "df_ = pd.read_clipboard(header=[0,1])\n",
    "#df_.columns= ['_'.join(col) for col in df_.columns]"
   ]
  },
  {
   "cell_type": "code",
   "execution_count": null,
   "metadata": {},
   "outputs": [],
   "source": [
    "df_['col'] = 1\n",
    "df_"
   ]
  },
  {
   "cell_type": "code",
   "execution_count": null,
   "metadata": {},
   "outputs": [],
   "source": [
    "df_.columns.levels[0][0]"
   ]
  },
  {
   "cell_type": "code",
   "execution_count": null,
   "metadata": {},
   "outputs": [],
   "source": [
    "df_1 = df_[['Cat_1_sub-cat_1']].rename(columns={'Cat_1_sub-cat_1':'Cat_1'}).reset_index()\n",
    "df_1.loc[:,'new_col'] = 'sub-cat_1'\n",
    "df_1 = df_1.set_index(['index', 'new_col'])\n",
    "df_2 = df_[['Cat_2_sub-cat_1']].rename(columns={'Cat_2_sub-cat_1':'Cat_2'}).reset_index()\n",
    "df_2.loc[:,'new_col'] = 'sub-cat_2'\n",
    "df_2 = df_2.set_index(['index', 'new_col'])\n",
    "#display(df_1, df_2)\n",
    "#df1_ = df_1.merge(df_2, on = ['index', 'new_col'], how = 'left')\n",
    "df1_ = pd.concat([df_1, df_2], 0, sort = True)"
   ]
  },
  {
   "cell_type": "code",
   "execution_count": null,
   "metadata": {},
   "outputs": [],
   "source": [
    "df1_"
   ]
  },
  {
   "cell_type": "code",
   "execution_count": null,
   "metadata": {},
   "outputs": [],
   "source": [
    "                     Cat_1    Cat_2         \n",
    "metric_one sub-cat_1    10      1\n",
    "           sub-cat_2    20      2\n",
    "metric_two sub-cat_1    15      3\n",
    "           sub-cat_2    10      4 "
   ]
  },
  {
   "cell_type": "code",
   "execution_count": null,
   "metadata": {},
   "outputs": [],
   "source": [
    "df_1 = df_1.reset_index(drop=True)\n",
    "df_1.loc[:,'CAT2'] = 'this'\n",
    "df_1.loc['CAT2'] = 'That'\n",
    "df_1"
   ]
  },
  {
   "cell_type": "code",
   "execution_count": null,
   "metadata": {},
   "outputs": [],
   "source": [
    "name  type    count\n",
    "x     a       32\n",
    "x     b       1111\n",
    "x     c       4214"
   ]
  },
  {
   "cell_type": "code",
   "execution_count": 28,
   "metadata": {},
   "outputs": [
    {
     "data": {
      "text/html": [
       "<div>\n",
       "<style scoped>\n",
       "    .dataframe tbody tr th:only-of-type {\n",
       "        vertical-align: middle;\n",
       "    }\n",
       "\n",
       "    .dataframe tbody tr th {\n",
       "        vertical-align: top;\n",
       "    }\n",
       "\n",
       "    .dataframe thead th {\n",
       "        text-align: right;\n",
       "    }\n",
       "</style>\n",
       "<table border=\"1\" class=\"dataframe\">\n",
       "  <thead>\n",
       "    <tr style=\"text-align: right;\">\n",
       "      <th></th>\n",
       "      <th>level_0</th>\n",
       "      <th>level_1</th>\n",
       "      <th>Cat_1</th>\n",
       "      <th>Cat_2</th>\n",
       "    </tr>\n",
       "  </thead>\n",
       "  <tbody>\n",
       "    <tr>\n",
       "      <th>0</th>\n",
       "      <td>metric_one</td>\n",
       "      <td>sub-cat_1</td>\n",
       "      <td>10</td>\n",
       "      <td>1.0</td>\n",
       "    </tr>\n",
       "    <tr>\n",
       "      <th>1</th>\n",
       "      <td>sub-cat_2</td>\n",
       "      <td>20</td>\n",
       "      <td>2</td>\n",
       "      <td>NaN</td>\n",
       "    </tr>\n",
       "    <tr>\n",
       "      <th>2</th>\n",
       "      <td>metric_two</td>\n",
       "      <td>sub-cat_1</td>\n",
       "      <td>15</td>\n",
       "      <td>3.0</td>\n",
       "    </tr>\n",
       "    <tr>\n",
       "      <th>3</th>\n",
       "      <td>sub-cat_2</td>\n",
       "      <td>10</td>\n",
       "      <td>4</td>\n",
       "      <td>NaN</td>\n",
       "    </tr>\n",
       "  </tbody>\n",
       "</table>\n",
       "</div>"
      ],
      "text/plain": [
       "      level_0    level_1  Cat_1  Cat_2\n",
       "0  metric_one  sub-cat_1     10    1.0\n",
       "1   sub-cat_2         20      2    NaN\n",
       "2  metric_two  sub-cat_1     15    3.0\n",
       "3   sub-cat_2         10      4    NaN"
      ]
     },
     "execution_count": 28,
     "metadata": {},
     "output_type": "execute_result"
    }
   ],
   "source": [
    "df_ = pd.read_clipboard()\n",
    "#df_.columns= ['_'.join(col) for col in df_.columns]\n",
    "df_ = df_.reset_index()\n",
    "df_"
   ]
  },
  {
   "cell_type": "code",
   "execution_count": 30,
   "metadata": {},
   "outputs": [
    {
     "data": {
      "text/plain": [
       "level_1\n",
       "10           0.032258\n",
       "20           0.032258\n",
       "sub-cat_1    0.064516\n",
       "Name: Cat_1, dtype: float64"
      ]
     },
     "execution_count": 30,
     "metadata": {},
     "output_type": "execute_result"
    }
   ],
   "source": [
    "df_.groupby('level_1').Cat_1.count()/df_.Cat_1.sum()"
   ]
  },
  {
   "cell_type": "code",
   "execution_count": 27,
   "metadata": {},
   "outputs": [
    {
     "data": {
      "text/html": [
       "<div>\n",
       "<style scoped>\n",
       "    .dataframe tbody tr th:only-of-type {\n",
       "        vertical-align: middle;\n",
       "    }\n",
       "\n",
       "    .dataframe tbody tr th {\n",
       "        vertical-align: top;\n",
       "    }\n",
       "\n",
       "    .dataframe thead th {\n",
       "        text-align: right;\n",
       "    }\n",
       "</style>\n",
       "<table border=\"1\" class=\"dataframe\">\n",
       "  <thead>\n",
       "    <tr style=\"text-align: right;\">\n",
       "      <th></th>\n",
       "      <th>level_0</th>\n",
       "      <th>level_1</th>\n",
       "      <th>Cat_1</th>\n",
       "      <th>Cat_2</th>\n",
       "    </tr>\n",
       "  </thead>\n",
       "  <tbody>\n",
       "    <tr>\n",
       "      <th>0</th>\n",
       "      <td>metric_one</td>\n",
       "      <td>sub-cat_1</td>\n",
       "      <td>10</td>\n",
       "      <td>1.0</td>\n",
       "    </tr>\n",
       "    <tr>\n",
       "      <th>1</th>\n",
       "      <td>sub-cat_2</td>\n",
       "      <td>20</td>\n",
       "      <td>2</td>\n",
       "      <td>NaN</td>\n",
       "    </tr>\n",
       "    <tr>\n",
       "      <th>2</th>\n",
       "      <td>metric_two</td>\n",
       "      <td>sub-cat_1</td>\n",
       "      <td>15</td>\n",
       "      <td>3.0</td>\n",
       "    </tr>\n",
       "    <tr>\n",
       "      <th>3</th>\n",
       "      <td>sub-cat_2</td>\n",
       "      <td>10</td>\n",
       "      <td>4</td>\n",
       "      <td>NaN</td>\n",
       "    </tr>\n",
       "  </tbody>\n",
       "</table>\n",
       "</div>"
      ],
      "text/plain": [
       "      level_0    level_1  Cat_1  Cat_2\n",
       "0  metric_one  sub-cat_1     10    1.0\n",
       "1   sub-cat_2         20      2    NaN\n",
       "2  metric_two  sub-cat_1     15    3.0\n",
       "3   sub-cat_2         10      4    NaN"
      ]
     },
     "execution_count": 27,
     "metadata": {},
     "output_type": "execute_result"
    }
   ],
   "source": [
    "df_"
   ]
  },
  {
   "cell_type": "code",
   "execution_count": null,
   "metadata": {},
   "outputs": [],
   "source": []
  }
 ],
 "metadata": {
  "kernelspec": {
   "display_name": "Python 3",
   "language": "python",
   "name": "python3"
  },
  "language_info": {
   "codemirror_mode": {
    "name": "ipython",
    "version": 3
   },
   "file_extension": ".py",
   "mimetype": "text/x-python",
   "name": "python",
   "nbconvert_exporter": "python",
   "pygments_lexer": "ipython3",
   "version": "3.6.5"
  }
 },
 "nbformat": 4,
 "nbformat_minor": 2
}
