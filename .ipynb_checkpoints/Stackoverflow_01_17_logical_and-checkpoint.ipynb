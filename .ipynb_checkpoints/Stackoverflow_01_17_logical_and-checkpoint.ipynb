{
  "nbformat": 4,
  "nbformat_minor": 0,
  "metadata": {
    "colab": {
      "name": "Stackoverflow_01_17_logical_and.ipynb",
      "version": "0.3.2",
      "provenance": [],
      "include_colab_link": true
    },
    "kernelspec": {
      "name": "python3",
      "display_name": "Python 3"
    }
  },
  "cells": [
    {
      "cell_type": "markdown",
      "metadata": {
        "id": "view-in-github",
        "colab_type": "text"
      },
      "source": [
        "<a href=\"https://colab.research.google.com/github/jpinzonc/example_smalltests/blob/master/Stackoverflow_01_17_logical_and.ipynb\" target=\"_parent\"><img src=\"https://colab.research.google.com/assets/colab-badge.svg\" alt=\"Open In Colab\"/></a>"
      ]
    },
    {
      "metadata": {
        "id": "cZof3FydqpUK",
        "colab_type": "text"
      },
      "cell_type": "markdown",
      "source": [
        "https://stackoverflow.com/questions/54246361/exclude-certain-values-when-checking-for-a-condition-with-pandas/54246762#54246762"
      ]
    },
    {
      "metadata": {
        "id": "LXn4LQBMd8H3",
        "colab_type": "code",
        "outputId": "aa5ea852-8140-4e25-9962-8ed8bf299ae3",
        "colab": {
          "base_uri": "https://localhost:8080/",
          "height": 204
        }
      },
      "cell_type": "code",
      "source": [
        "import pandas as pd\n",
        "import numpy as np\n",
        "\n",
        "data = {'col1':['a##', 'c##', 'a##', 'c##', 'b##'], 'col2':['b##', 'd23', 'k##', 'b12', 'HO'], 'col3': ['HO', 'c##', 'z##', 'a12', 'z##']}\n",
        "\n",
        "df = pd.DataFrame(data = data)\n",
        "\n",
        "m = np.logical_and.reduce([[('##' in x) | (x=='HO') for x in df[c] ]for c in df.columns  ])\n",
        "\n",
        "print(df, '\\n\\n',df[m])"
      ],
      "execution_count": 1,
      "outputs": [
        {
          "output_type": "stream",
          "text": [
            "  col1 col2 col3\n",
            "0  a##  b##   HO\n",
            "1  c##  d23  c##\n",
            "2  a##  k##  z##\n",
            "3  c##  b12  a12\n",
            "4  b##   HO  z## \n",
            "\n",
            "   col1 col2 col3\n",
            "0  a##  b##   HO\n",
            "2  a##  k##  z##\n",
            "4  b##   HO  z##\n"
          ],
          "name": "stdout"
        }
      ]
    },
    {
      "metadata": {
        "id": "QeRi8NcOnTrM",
        "colab_type": "code",
        "colab": {}
      },
      "cell_type": "code",
      "source": [
        ""
      ],
      "execution_count": 0,
      "outputs": []
    }
  ]
}