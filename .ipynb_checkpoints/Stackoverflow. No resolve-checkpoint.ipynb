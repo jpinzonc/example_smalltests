{
 "cells": [
  {
   "cell_type": "markdown",
   "metadata": {},
   "source": [
    "https://stackoverflow.com/questions/54969074/python-3-remove-overlaps-in-table"
   ]
  },
  {
   "cell_type": "code",
   "execution_count": 1,
   "metadata": {},
   "outputs": [],
   "source": [
    "import pandas as pd"
   ]
  },
  {
   "cell_type": "raw",
   "metadata": {},
   "source": [
    "id   hit from   to value\n",
    "A   hit1    56  102 0.00085\n",
    "B   hit2    89  275 0.00034\n",
    "B   hit3    240 349 0.00034\n",
    "C   hit4    332 480 3.40E-15\n",
    "D   hit5    291 512 3.80E-24\n",
    "D   hit6    287 313 0.00098\n",
    "D   hit7    381 426 0.00098\n",
    "D   hit8    287 316 0.0029\n",
    "D   hit9    373 422 0.0029\n",
    "D   hit10   514 600 0.0021"
   ]
  },
  {
   "cell_type": "code",
   "execution_count": 2,
   "metadata": {},
   "outputs": [],
   "source": [
    "df = pd.read_clipboard()"
   ]
  },
  {
   "cell_type": "code",
   "execution_count": 54,
   "metadata": {},
   "outputs": [
    {
     "name": "stdout",
     "output_type": "stream",
     "text": [
      "B 0 2\n",
      "B 1 1\n",
      "D 0 6\n",
      "\t D 0 426\n",
      "D 1 5\n",
      "\t D 1 426\n",
      "D 2 4\n",
      "\t D 2 426\n",
      "D 3 3\n",
      "\t D 3 426\n",
      "D 4 2\n",
      "D 5 1\n"
     ]
    },
    {
     "name": "stderr",
     "output_type": "stream",
     "text": [
      "/Users/jpinzon/anaconda3/lib/python3.6/site-packages/ipykernel_launcher.py:22: UserWarning: Boolean Series key will be reindexed to match DataFrame index.\n",
      "/Users/jpinzon/anaconda3/lib/python3.6/site-packages/ipykernel_launcher.py:22: UserWarning: Boolean Series key will be reindexed to match DataFrame index.\n",
      "/Users/jpinzon/anaconda3/lib/python3.6/site-packages/ipykernel_launcher.py:22: UserWarning: Boolean Series key will be reindexed to match DataFrame index.\n"
     ]
    },
    {
     "data": {
      "text/html": [
       "<div>\n",
       "<style scoped>\n",
       "    .dataframe tbody tr th:only-of-type {\n",
       "        vertical-align: middle;\n",
       "    }\n",
       "\n",
       "    .dataframe tbody tr th {\n",
       "        vertical-align: top;\n",
       "    }\n",
       "\n",
       "    .dataframe thead th {\n",
       "        text-align: right;\n",
       "    }\n",
       "</style>\n",
       "<table border=\"1\" class=\"dataframe\">\n",
       "  <thead>\n",
       "    <tr style=\"text-align: right;\">\n",
       "      <th></th>\n",
       "      <th>id</th>\n",
       "      <th>hit</th>\n",
       "      <th>from</th>\n",
       "      <th>to</th>\n",
       "      <th>value</th>\n",
       "    </tr>\n",
       "  </thead>\n",
       "  <tbody>\n",
       "    <tr>\n",
       "      <th>0</th>\n",
       "      <td>A</td>\n",
       "      <td>hit1</td>\n",
       "      <td>56</td>\n",
       "      <td>102</td>\n",
       "      <td>8.500000e-04</td>\n",
       "    </tr>\n",
       "    <tr>\n",
       "      <th>1</th>\n",
       "      <td>B</td>\n",
       "      <td>hit3</td>\n",
       "      <td>240</td>\n",
       "      <td>349</td>\n",
       "      <td>3.400000e-04</td>\n",
       "    </tr>\n",
       "    <tr>\n",
       "      <th>2</th>\n",
       "      <td>C</td>\n",
       "      <td>hit4</td>\n",
       "      <td>332</td>\n",
       "      <td>480</td>\n",
       "      <td>3.400000e-15</td>\n",
       "    </tr>\n",
       "    <tr>\n",
       "      <th>3</th>\n",
       "      <td>D</td>\n",
       "      <td>hit7</td>\n",
       "      <td>381</td>\n",
       "      <td>426</td>\n",
       "      <td>9.800000e-04</td>\n",
       "    </tr>\n",
       "    <tr>\n",
       "      <th>4</th>\n",
       "      <td>D</td>\n",
       "      <td>hit10</td>\n",
       "      <td>514</td>\n",
       "      <td>600</td>\n",
       "      <td>2.100000e-03</td>\n",
       "    </tr>\n",
       "  </tbody>\n",
       "</table>\n",
       "</div>"
      ],
      "text/plain": [
       "  id    hit  from   to         value\n",
       "0  A   hit1    56  102  8.500000e-04\n",
       "1  B   hit3   240  349  3.400000e-04\n",
       "2  C   hit4   332  480  3.400000e-15\n",
       "3  D   hit7   381  426  9.800000e-04\n",
       "4  D  hit10   514  600  2.100000e-03"
      ]
     },
     "execution_count": 54,
     "metadata": {},
     "output_type": "execute_result"
    }
   ],
   "source": [
    "df1 = df.copy()\n",
    "df2 =  pd.DataFrame()\n",
    "for i in df1.id.unique(): # For loop for each id in the dataframe\n",
    "    df_ = df1[df1['id']==i].sort_values(by = 'from').reset_index(drop = True)    # Generates a new dataframe with only the rows for each id sorted by from\n",
    "    if len(df_) <= 1:                                                          # If the new dataframe is less or equals to one in lenght, it is NOT modified\n",
    "        df_ = df_\n",
    "        df2 = pd.concat([df2, df_], 0)\n",
    "    else:\n",
    "        rows = len(df_)\n",
    "        df_1 = df_.copy().reset_index(drop  = True)\n",
    "        for row in range(rows):\n",
    "            print(i, row, len(df_1))\n",
    "            df_1 = df_1.tail(len(df_1)-1).reset_index(drop  = True)\n",
    "            if len(df_1) <= 1:                                                          # If the new dataframe is less or equals to one in lenght, it is NOT modified\n",
    "                df_1 = df_1\n",
    "                df2 = pd.concat([df2, df_1], 0).reset_index(drop = True)\n",
    "            elif df_1.empty == False:\n",
    "                value_to = df_1[0:1]['to'][0]\n",
    "                print('\\t',i, row, value)\n",
    "                df_2 = df_1[(df_1['from'] < value_to)|(df_1.index==0)]                        # For all other dataframes, it first check that all from values are less than the firsr value\n",
    "                #df_2 = df_2[df_2['from'] > df_2['to'].shift(1)] \n",
    "                df_2 = df_2[df2['value'] == df2['value'].min()].drop_duplicates()\n",
    "                # Remove all rows where the from value is less than the value in the to column previous row\n",
    "                df2 = pd.concat([df2, df_2], 0, sort = False).reset_index(drop = True)\n",
    "                # Puts all the results for each id in the df2 dataframe\n",
    "    df2 = df2.drop_duplicates().reset_index(drop = True)\n",
    "df2.reset_index(drop = True)\n",
    "df2"
   ]
  },
  {
   "cell_type": "code",
   "execution_count": null,
   "metadata": {},
   "outputs": [],
   "source": []
  }
 ],
 "metadata": {
  "kernelspec": {
   "display_name": "Python 3",
   "language": "python",
   "name": "python3"
  },
  "language_info": {
   "codemirror_mode": {
    "name": "ipython",
    "version": 3
   },
   "file_extension": ".py",
   "mimetype": "text/x-python",
   "name": "python",
   "nbconvert_exporter": "python",
   "pygments_lexer": "ipython3",
   "version": "3.6.8"
  }
 },
 "nbformat": 4,
 "nbformat_minor": 2
}
