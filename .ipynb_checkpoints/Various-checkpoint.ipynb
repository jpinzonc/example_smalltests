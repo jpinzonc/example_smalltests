{
 "cells": [
  {
   "cell_type": "code",
   "execution_count": 1,
   "metadata": {},
   "outputs": [
    {
     "name": "stdout",
     "output_type": "stream",
     "text": [
      " elapsed time: 6.9499130000000005\n"
     ]
    }
   ],
   "source": [
    "from random import randint\n",
    "import numpy as np\n",
    "import time\n",
    "import pandas as pd\n",
    "\n",
    "length = int(1e5)\n",
    "\n",
    "bimonthly_days = np.arange(0, 30)\n",
    "base_date = np.datetime64('2017-01-01')\n",
    "random_date = base_date + np.random.choice(bimonthly_days)\n",
    "\n",
    "groups = np.random.randint(1, int(2e4), length)\n",
    "dates = np.array([base_date + np.random.choice(bimonthly_days) for _ in range(length)], dtype='datetime64[ns]')\n",
    "\n",
    "df = pd.DataFrame({'group': groups, 'date': dates})\n",
    "\n",
    "grouped = df.groupby('group')\n",
    "date_ = np.datetime64('2017-01-30')\n",
    "\n",
    "start_time = time.process_time()\n",
    "df['split'] = grouped['date'].transform(lambda x: x.max() < date_)\n",
    "dif = time.process_time() - start_time\n",
    "print(f\" elapsed time: {dif}\")\n",
    "\n",
    "s1 = df[df['split'] == 1].drop(columns=['split'])\n",
    "s2 = df[df['split'] == 0].drop(columns=['split'])"
   ]
  },
  {
   "cell_type": "code",
   "execution_count": 2,
   "metadata": {},
   "outputs": [
    {
     "name": "stdout",
     "output_type": "stream",
     "text": [
      " elapsed time: 0.01961299999999966\n"
     ]
    }
   ],
   "source": [
    "start_time = time.process_time()\n",
    "df.loc[:,'split'] = df.groupby('group').date.transform('max')\n",
    "dif = time.process_time() - start_time\n",
    "print(f\" elapsed time: {dif}\")\n",
    "\n",
    "s1 = df[df.split < date_]\n",
    "s2 = df[df.split >= date_]"
   ]
  },
  {
   "cell_type": "code",
   "execution_count": null,
   "metadata": {},
   "outputs": [],
   "source": []
  }
 ],
 "metadata": {
  "kernelspec": {
   "display_name": "Python 3",
   "language": "python",
   "name": "python3"
  },
  "language_info": {
   "codemirror_mode": {
    "name": "ipython",
    "version": 3
   },
   "file_extension": ".py",
   "mimetype": "text/x-python",
   "name": "python",
   "nbconvert_exporter": "python",
   "pygments_lexer": "ipython3",
   "version": "3.6.8"
  }
 },
 "nbformat": 4,
 "nbformat_minor": 2
}
