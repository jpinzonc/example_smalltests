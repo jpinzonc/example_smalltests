{
 "cells": [
  {
   "cell_type": "code",
   "execution_count": null,
   "metadata": {},
   "outputs": [],
   "source": [
    "https://stackoverflow.com/questions/53570725/inverse-score-in-python/53570905#53570905"
   ]
  },
  {
   "cell_type": "code",
   "execution_count": 32,
   "metadata": {},
   "outputs": [
    {
     "name": "stdout",
     "output_type": "stream",
     "text": [
      "   value\n",
      "0     54\n",
      "1     74\n",
      "2     71\n",
      "3     78\n",
      "4     12\n",
      "min 12\n",
      "min2 54\n",
      "   value       score\n",
      "0     54  594.923077\n",
      "1     74  592.505495\n",
      "2     71  592.868132\n",
      "3     78   50.000000\n",
      "4     12  600.000000\n"
     ]
    }
   ],
   "source": [
    "import pandas as pd\n",
    "import heapq\n",
    "\n",
    "\n",
    "df = pd.DataFrame({'value': [54, 74, 71, 78, 12]})\n",
    "print(df)\n",
    "dfmin = df.min()[0]\n",
    "print('min',dfmin)\n",
    "dfmin2   = heapq.nsmallest(2, df.value)[1]\n",
    "print('min2', dfmin2)\n",
    "dfmax   = df.max()[0]\n",
    "dfrange = dfmax - dfmin\n",
    "score_value = (600-dfmin2)/dfrange\n",
    "df.loc[:,'score'] = np.where(df['value'] == dfmin, 600, \n",
    "                             np.where(df.value == dfmax, \n",
    "                                      50, \n",
    "                                      600 - ((df.value - dfmin)* (1/score_value))))\n",
    "print(df)"
   ]
  },
  {
   "cell_type": "code",
   "execution_count": 17,
   "metadata": {},
   "outputs": [
    {
     "data": {
      "text/plain": [
       "74"
      ]
     },
     "execution_count": 17,
     "metadata": {},
     "output_type": "execute_result"
    }
   ],
   "source": [
    "import heapq\n",
    "heapq.nlargest(2, df.value)[1]"
   ]
  },
  {
   "cell_type": "code",
   "execution_count": 11,
   "metadata": {},
   "outputs": [
    {
     "data": {
      "text/html": [
       "<div>\n",
       "<style scoped>\n",
       "    .dataframe tbody tr th:only-of-type {\n",
       "        vertical-align: middle;\n",
       "    }\n",
       "\n",
       "    .dataframe tbody tr th {\n",
       "        vertical-align: top;\n",
       "    }\n",
       "\n",
       "    .dataframe thead th {\n",
       "        text-align: right;\n",
       "    }\n",
       "</style>\n",
       "<table border=\"1\" class=\"dataframe\">\n",
       "  <thead>\n",
       "    <tr style=\"text-align: right;\">\n",
       "      <th></th>\n",
       "      <th>value</th>\n",
       "      <th>score</th>\n",
       "    </tr>\n",
       "  </thead>\n",
       "  <tbody>\n",
       "    <tr>\n",
       "      <th>0</th>\n",
       "      <td>54</td>\n",
       "      <td>594.96</td>\n",
       "    </tr>\n",
       "    <tr>\n",
       "      <th>1</th>\n",
       "      <td>74</td>\n",
       "      <td>592.56</td>\n",
       "    </tr>\n",
       "    <tr>\n",
       "      <th>2</th>\n",
       "      <td>71</td>\n",
       "      <td>592.92</td>\n",
       "    </tr>\n",
       "    <tr>\n",
       "      <th>3</th>\n",
       "      <td>78</td>\n",
       "      <td>50.00</td>\n",
       "    </tr>\n",
       "    <tr>\n",
       "      <th>4</th>\n",
       "      <td>12</td>\n",
       "      <td>600.00</td>\n",
       "    </tr>\n",
       "  </tbody>\n",
       "</table>\n",
       "</div>"
      ],
      "text/plain": [
       "   value   score\n",
       "0     54  594.96\n",
       "1     74  592.56\n",
       "2     71  592.92\n",
       "3     78   50.00\n",
       "4     12  600.00"
      ]
     },
     "execution_count": 11,
     "metadata": {},
     "output_type": "execute_result"
    }
   ],
   "source": [
    "dfmin   = df.min()[0]\n",
    "dfmax   = df.max()[0]\n",
    "dfrange = dfmax - dfmin\n",
    "score_value = (600-50)/dfrange\n",
    "df.loc[:,'score'] = np.where(df['value'] == dfmin, 600, \n",
    "                             np.where(df.value == dfmax, \n",
    "                                      50, \n",
    "                                      600 - ((df.value - dfmin)* (1/score_value))))\n",
    "df"
   ]
  },
  {
   "cell_type": "code",
   "execution_count": 7,
   "metadata": {},
   "outputs": [
    {
     "data": {
      "text/plain": [
       "8.333333333333334"
      ]
     },
     "execution_count": 7,
     "metadata": {},
     "output_type": "execute_result"
    }
   ],
   "source": [
    "71 -12"
   ]
  },
  {
   "cell_type": "code",
   "execution_count": 8,
   "metadata": {},
   "outputs": [
    {
     "data": {
      "text/plain": [
       "592.9171668667467"
      ]
     },
     "execution_count": 8,
     "metadata": {},
     "output_type": "execute_result"
    }
   ],
   "source": [
    "600 - (59*(1/8.33))"
   ]
  },
  {
   "cell_type": "code",
   "execution_count": 32,
   "metadata": {},
   "outputs": [
    {
     "data": {
      "text/plain": [
       "491.47"
      ]
     },
     "execution_count": 32,
     "metadata": {},
     "output_type": "execute_result"
    }
   ],
   "source": [
    "59*8.33"
   ]
  },
  {
   "cell_type": "code",
   "execution_count": null,
   "metadata": {},
   "outputs": [],
   "source": []
  }
 ],
 "metadata": {
  "kernelspec": {
   "display_name": "Python 3",
   "language": "python",
   "name": "python3"
  },
  "language_info": {
   "codemirror_mode": {
    "name": "ipython",
    "version": 3
   },
   "file_extension": ".py",
   "mimetype": "text/x-python",
   "name": "python",
   "nbconvert_exporter": "python",
   "pygments_lexer": "ipython3",
   "version": "3.6.5"
  }
 },
 "nbformat": 4,
 "nbformat_minor": 2
}
