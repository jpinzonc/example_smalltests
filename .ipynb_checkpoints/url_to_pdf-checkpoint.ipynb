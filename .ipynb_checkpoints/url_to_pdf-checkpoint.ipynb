{
 "cells": [
  {
   "cell_type": "raw",
   "metadata": {},
   "source": [
    "!pip install wkhtmltopdf\n",
    "!pip install pdfkit"
   ]
  },
  {
   "cell_type": "code",
   "execution_count": 1,
   "metadata": {},
   "outputs": [],
   "source": [
    "import pdfkit"
   ]
  },
  {
   "cell_type": "code",
   "execution_count": 6,
   "metadata": {},
   "outputs": [
    {
     "name": "stdout",
     "output_type": "stream",
     "text": [
      "Loading pages (1/6)\n",
      "QFont::setPixelSize: Pixel size <= 0 (0)\n",
      "QFont::setPixelSize: Pixel size <= 0 (0)\n",
      "QFont::setPixelSize: Pixel size <= 0 (0)\n",
      "QFont::setPixelSize: Pixel size <= 0 (0)\n",
      "Counting pages (2/6)                                               \n",
      "QFont::setPixelSize: Pixel size <= 0 (0)\n",
      "QFont::setPixelSize: Pixel size <= 0 (0)\n",
      "Resolving links (4/6)                                                       \n",
      "Loading headers and footers (5/6)                                           \n",
      "Printing pages (6/6)\n",
      "QFont::setPixelSize: Pixel size <= 0 (0)\n",
      "QFont::setPixelSize: Pixel size <= 0 (0)\n",
      "Done                                                                      \n",
      "Warning: Received createRequest signal on a disposed ResourceObject's NetworkAccessManager. This might be an indication of an iframe taking too long to load.\n"
     ]
    },
    {
     "data": {
      "text/plain": [
       "True"
      ]
     },
     "execution_count": 6,
     "metadata": {},
     "output_type": "execute_result"
    }
   ],
   "source": [
    "pdfkit.from_url('https://www.homedepot.com/p/Leviton-15-Amp-Tamper-Resistant-Duplex-Outlet-White-10-Pack-M22-T5320-WMP/100684043', 'out.pdf')"
   ]
  },
  {
   "cell_type": "code",
   "execution_count": 73,
   "metadata": {},
   "outputs": [
    {
     "name": "stdout",
     "output_type": "stream",
     "text": [
      "Loading pages (1/6)\n",
      "QFont::setPixelSize: Pixel size <= 0 (0)\n",
      "QFont::setPixelSize: Pixel size <= 0 (0)\n",
      "QFont::setPixelSize: Pixel size <= 0 (0)\n",
      "QFont::setPixelSize: Pixel size <= 0 (0)\n",
      "Warning: Failed to load https://inlinecontent.homedepot-static.com/27E/Leviton MFG CO INC/hd_gfci-info-v2.jpg (ignore)\n",
      "Counting pages (2/6)                                               \n",
      "QFont::setPixelSize: Pixel size <= 0 (0)\n",
      "QFont::setPixelSize: Pixel size <= 0 (0)\n",
      "Resolving links (4/6)                                                       \n",
      "Loading headers and footers (5/6)                                           \n",
      "Printing pages (6/6)\n",
      "QFont::setPixelSize: Pixel size <= 0 (0)\n",
      "QFont::setPixelSize: Pixel size <= 0 (0)\n",
      "Done                                                                      \n"
     ]
    },
    {
     "data": {
      "text/plain": [
       "True"
      ]
     },
     "execution_count": 73,
     "metadata": {},
     "output_type": "execute_result"
    }
   ],
   "source": [
    "pdfkit.from_url('https://www.homedepot.com/p/Leviton-20-Amp-Self-Test-SmartlockPro-Slim-Duplex-GFCI-Outlet-White-R12-GFNT2-0RW/205996739', 'out.pdf')"
   ]
  },
  {
   "cell_type": "code",
   "execution_count": 171,
   "metadata": {},
   "outputs": [
    {
     "name": "stdout",
     "output_type": "stream",
     "text": [
      "Loading pages (1/6)\n",
      "QFont::setPixelSize: Pixel size <= 0 (0)\n",
      "QFont::setPixelSize: Pixel size <= 0 (0)\n",
      "Counting pages (2/6)                                               \n",
      "QFont::setPixelSize: Pixel size <= 0 (0)\n",
      "QFont::setPixelSize: Pixel size <= 0 (0)\n",
      "Resolving links (4/6)                                                       \n",
      "Loading headers and footers (5/6)                                           \n",
      "Printing pages (6/6)\n",
      "QFont::setPixelSize: Pixel size <= 0 (0)\n",
      "QFont::setPixelSize: Pixel size <= 0 (0)\n",
      "Done                                                                      \n"
     ]
    },
    {
     "data": {
      "text/plain": [
       "True"
      ]
     },
     "execution_count": 171,
     "metadata": {},
     "output_type": "execute_result"
    }
   ],
   "source": [
    "updf = 'https://www.homedepot.com/p/Southwire-1000-ft-12-2-Solid-Romex-SIMpull-CU-NM-B-W-G-Wire-28828201/202316226'\n",
    "pdfkit.from_url(updf, 'out.pdf')"
   ]
  },
  {
   "cell_type": "code",
   "execution_count": 182,
   "metadata": {},
   "outputs": [
    {
     "ename": "OSError",
     "evalue": "wkhtmltopdf reported an error:\nLoading pages (1/6)\n[>                                                           ] 0%\r[======>                                                     ] 10%\r[============>                                               ] 20%\r[=============>                                              ] 23%\r[=================>                                          ] 29%\r[===================>                                        ] 32%\r[=====================>                                      ] 35%\r[=======================>                                    ] 39%\r[=========================>                                  ] 43%\r[===========================>                                ] 46%\r[============================>                               ] 48%\r[==============================>                             ] 50%\r[==============================>                             ] 50%\r[==============================>                             ] 50%\r[==============================>                             ] 50%\rQFont::setPixelSize: Pixel size <= 0 (0)\n[==============================>                             ] 50%\rQFont::setPixelSize: Pixel size <= 0 (0)\nQFont::setPixelSize: Pixel size <= 0 (0)\n[=================================>                          ] 55%\r[===================================>                        ] 59%\r[=====================================>                      ] 63%\r[=======================================>                    ] 66%\r[=============================================>              ] 76%\r[=================================================>          ] 82%\r[====================================================>       ] 87%\r[=====================================================>      ] 89%\r[=====================================================>      ] 89%\r[=====================================================>      ] 89%\r[============================================================] 100%\rError: Failed loading page https://www.lowes.com/pd/Legrand-White-15-Amp-Duplex-Outlet-Residential-10-Pack/3235956# (sometimes it will work just to ignore this error with --load-error-handling ignore)\nWarning: A finished ResourceObject received a loading progress signal. This might be an indication of an iframe taking too long to load.\nWarning: Received createRequest signal on a disposed ResourceObject's NetworkAccessManager. This might be an indication of an iframe taking too long to load.\nExit with code 1, due to unknown error.\n",
     "output_type": "error",
     "traceback": [
      "\u001b[0;31m---------------------------------------------------------------------------\u001b[0m",
      "\u001b[0;31mOSError\u001b[0m                                   Traceback (most recent call last)",
      "\u001b[0;32m<ipython-input-182-fc5c7c04a100>\u001b[0m in \u001b[0;36m<module>\u001b[0;34m\u001b[0m\n\u001b[1;32m      1\u001b[0m \u001b[0mupdf\u001b[0m \u001b[0;34m=\u001b[0m \u001b[0;34m'https://www.lowes.com/pd/Legrand-White-15-Amp-Duplex-Outlet-Residential-10-Pack/3235956#'\u001b[0m\u001b[0;34m\u001b[0m\u001b[0;34m\u001b[0m\u001b[0m\n\u001b[0;32m----> 2\u001b[0;31m \u001b[0mpdfkit\u001b[0m\u001b[0;34m.\u001b[0m\u001b[0mfrom_url\u001b[0m\u001b[0;34m(\u001b[0m\u001b[0mupdf\u001b[0m\u001b[0;34m,\u001b[0m \u001b[0;32mFalse\u001b[0m\u001b[0;34m)\u001b[0m\u001b[0;34m\u001b[0m\u001b[0;34m\u001b[0m\u001b[0m\n\u001b[0m",
      "\u001b[0;32m~/anaconda3/lib/python3.7/site-packages/pdfkit/api.py\u001b[0m in \u001b[0;36mfrom_url\u001b[0;34m(url, output_path, options, toc, cover, configuration, cover_first)\u001b[0m\n\u001b[1;32m     24\u001b[0m                configuration=configuration, cover_first=cover_first)\n\u001b[1;32m     25\u001b[0m \u001b[0;34m\u001b[0m\u001b[0m\n\u001b[0;32m---> 26\u001b[0;31m     \u001b[0;32mreturn\u001b[0m \u001b[0mr\u001b[0m\u001b[0;34m.\u001b[0m\u001b[0mto_pdf\u001b[0m\u001b[0;34m(\u001b[0m\u001b[0moutput_path\u001b[0m\u001b[0;34m)\u001b[0m\u001b[0;34m\u001b[0m\u001b[0;34m\u001b[0m\u001b[0m\n\u001b[0m\u001b[1;32m     27\u001b[0m \u001b[0;34m\u001b[0m\u001b[0m\n\u001b[1;32m     28\u001b[0m \u001b[0;34m\u001b[0m\u001b[0m\n",
      "\u001b[0;32m~/anaconda3/lib/python3.7/site-packages/pdfkit/pdfkit.py\u001b[0m in \u001b[0;36mto_pdf\u001b[0;34m(self, path)\u001b[0m\n\u001b[1;32m    154\u001b[0m \u001b[0;34m\u001b[0m\u001b[0m\n\u001b[1;32m    155\u001b[0m         \u001b[0;32mif\u001b[0m \u001b[0;34m'Error'\u001b[0m \u001b[0;32min\u001b[0m \u001b[0mstderr\u001b[0m\u001b[0;34m:\u001b[0m\u001b[0;34m\u001b[0m\u001b[0;34m\u001b[0m\u001b[0m\n\u001b[0;32m--> 156\u001b[0;31m             \u001b[0;32mraise\u001b[0m \u001b[0mIOError\u001b[0m\u001b[0;34m(\u001b[0m\u001b[0;34m'wkhtmltopdf reported an error:\\n'\u001b[0m \u001b[0;34m+\u001b[0m \u001b[0mstderr\u001b[0m\u001b[0;34m)\u001b[0m\u001b[0;34m\u001b[0m\u001b[0;34m\u001b[0m\u001b[0m\n\u001b[0m\u001b[1;32m    157\u001b[0m \u001b[0;34m\u001b[0m\u001b[0m\n\u001b[1;32m    158\u001b[0m         \u001b[0;32mif\u001b[0m \u001b[0mexit_code\u001b[0m \u001b[0;34m!=\u001b[0m \u001b[0;36m0\u001b[0m\u001b[0;34m:\u001b[0m\u001b[0;34m\u001b[0m\u001b[0;34m\u001b[0m\u001b[0m\n",
      "\u001b[0;31mOSError\u001b[0m: wkhtmltopdf reported an error:\nLoading pages (1/6)\n[>                                                           ] 0%\r[======>                                                     ] 10%\r[============>                                               ] 20%\r[=============>                                              ] 23%\r[=================>                                          ] 29%\r[===================>                                        ] 32%\r[=====================>                                      ] 35%\r[=======================>                                    ] 39%\r[=========================>                                  ] 43%\r[===========================>                                ] 46%\r[============================>                               ] 48%\r[==============================>                             ] 50%\r[==============================>                             ] 50%\r[==============================>                             ] 50%\r[==============================>                             ] 50%\rQFont::setPixelSize: Pixel size <= 0 (0)\n[==============================>                             ] 50%\rQFont::setPixelSize: Pixel size <= 0 (0)\nQFont::setPixelSize: Pixel size <= 0 (0)\n[=================================>                          ] 55%\r[===================================>                        ] 59%\r[=====================================>                      ] 63%\r[=======================================>                    ] 66%\r[=============================================>              ] 76%\r[=================================================>          ] 82%\r[====================================================>       ] 87%\r[=====================================================>      ] 89%\r[=====================================================>      ] 89%\r[=====================================================>      ] 89%\r[============================================================] 100%\rError: Failed loading page https://www.lowes.com/pd/Legrand-White-15-Amp-Duplex-Outlet-Residential-10-Pack/3235956# (sometimes it will work just to ignore this error with --load-error-handling ignore)\nWarning: A finished ResourceObject received a loading progress signal. This might be an indication of an iframe taking too long to load.\nWarning: Received createRequest signal on a disposed ResourceObject's NetworkAccessManager. This might be an indication of an iframe taking too long to load.\nExit with code 1, due to unknown error.\n"
     ]
    }
   ],
   "source": [
    "updf = 'https://www.lowes.com/pd/Legrand-White-15-Amp-Duplex-Outlet-Residential-10-Pack/3235956#'\n",
    "pdfkit.from_url(updf, False)"
   ]
  },
  {
   "cell_type": "code",
   "execution_count": null,
   "metadata": {},
   "outputs": [],
   "source": []
  },
  {
   "cell_type": "code",
   "execution_count": null,
   "metadata": {},
   "outputs": [],
   "source": [
    "from pdfminer.pdfinterp import PDFResourceManager, PDFPageInterpreter\n",
    "from pdfminer.converter import TextConverter\n",
    "from pdfminer.layout import LAParams\n",
    "from pdfminer.pdfpage import PDFPage\n",
    "from io import StringIO\n",
    "import re\n",
    "def convert_pdf_to_txt(path):\n",
    "    rsrcmgr = PDFResourceManager()\n",
    "    retstr = StringIO()\n",
    "    codec = 'utf-8'\n",
    "    laparams = LAParams()\n",
    "    device = TextConverter(rsrcmgr, retstr, codec=codec, laparams=laparams)\n",
    "    fp = open(path, 'rb')\n",
    "    interpreter = PDFPageInterpreter(rsrcmgr, device)\n",
    "    password = \"\"\n",
    "    maxpages = 0 #is for all\n",
    "    caching = True\n",
    "    pagenos=set()\n",
    "    for page in PDFPage.get_pages(fp, pagenos, maxpages=maxpages, password=password,caching=caching, check_extractable=True):\n",
    "        interpreter.process_page(page)\n",
    "    fp.close()\n",
    "    device.close()\n",
    "    text = retstr.getvalue()\n",
    "    retstr.close()\n",
    "    return text"
   ]
  },
  {
   "cell_type": "code",
   "execution_count": null,
   "metadata": {},
   "outputs": [],
   "source": [
    "text1 = convert_pdf_to_txt('out.pdf')"
   ]
  },
  {
   "cell_type": "code",
   "execution_count": null,
   "metadata": {},
   "outputs": [],
   "source": [
    "sep = ' uniqueidentifiers ' \n",
    "rest = re.sub(r'\\n\\n',sep, text1).split(sep)\n",
    "rest[4]"
   ]
  },
  {
   "cell_type": "code",
   "execution_count": null,
   "metadata": {},
   "outputs": [],
   "source": [
    "for r in rest:\n",
    "    if '$' in r:\n",
    "        counts= r.count('$')\n",
    "        print(r, counts)#'S'"
   ]
  },
  {
   "cell_type": "code",
   "execution_count": 178,
   "metadata": {},
   "outputs": [
    {
     "data": {
      "text/plain": [
       "[('$ 250 24', '')]"
      ]
     },
     "execution_count": 178,
     "metadata": {},
     "output_type": "execute_result"
    }
   ],
   "source": [
    "import re\n",
    "s = rest[4]\n",
    "match = re.findall('(\\$ \\d+ \\d\\d)|(\\$\\d+\\.\\d\\d)', s)\n",
    "match  # the entire match \n"
   ]
  },
  {
   "cell_type": "code",
   "execution_count": 166,
   "metadata": {},
   "outputs": [
    {
     "data": {
      "text/plain": [
       "('', '$15.11')"
      ]
     },
     "execution_count": 166,
     "metadata": {},
     "output_type": "execute_result"
    }
   ],
   "source": [
    "match[1]"
   ]
  },
  {
   "cell_type": "code",
   "execution_count": 143,
   "metadata": {},
   "outputs": [
    {
     "ename": "AttributeError",
     "evalue": "'re.Match' object has no attribute 'shape'",
     "output_type": "error",
     "traceback": [
      "\u001b[0;31m---------------------------------------------------------------------------\u001b[0m",
      "\u001b[0;31mAttributeError\u001b[0m                            Traceback (most recent call last)",
      "\u001b[0;32m<ipython-input-143-e64cef47f827>\u001b[0m in \u001b[0;36m<module>\u001b[0;34m\u001b[0m\n\u001b[0;32m----> 1\u001b[0;31m \u001b[0mmatch\u001b[0m\u001b[0;34m.\u001b[0m\u001b[0mshape\u001b[0m\u001b[0;34m\u001b[0m\u001b[0;34m\u001b[0m\u001b[0m\n\u001b[0m",
      "\u001b[0;31mAttributeError\u001b[0m: 're.Match' object has no attribute 'shape'"
     ]
    }
   ],
   "source": [
    "match.shape"
   ]
  },
  {
   "cell_type": "code",
   "execution_count": 169,
   "metadata": {},
   "outputs": [
    {
     "data": {
      "text/plain": [
       "[('1', ' ricochet robots'), ('2', ' settlers of catan'), ('3', ' acquire')]"
      ]
     },
     "execution_count": 169,
     "metadata": {},
     "output_type": "execute_result"
    }
   ],
   "source": [
    "text = \"\"\"\n",
    "1. ricochet robots\n",
    "2. settlers of catan\n",
    "3. acquire\n",
    "\"\"\"\n",
    "re.findall(r'^(\\d+)\\.(.*)$', text, re.MULTILINE)"
   ]
  },
  {
   "cell_type": "code",
   "execution_count": 79,
   "metadata": {},
   "outputs": [
    {
     "data": {
      "text/plain": [
       "35"
      ]
     },
     "execution_count": 79,
     "metadata": {},
     "output_type": "execute_result"
    }
   ],
   "source": [
    "len(v)"
   ]
  },
  {
   "cell_type": "code",
   "execution_count": 83,
   "metadata": {},
   "outputs": [
    {
     "name": "stdout",
     "output_type": "stream",
     "text": [
      "0\n",
      "1\n",
      "1\n",
      "2\n",
      "3\n",
      "4\n",
      "5\n",
      "6\n",
      "7\n",
      "7\n",
      "7\n",
      "7\n",
      "7\n",
      "7\n",
      "7\n",
      "8\n",
      "9\n",
      "10\n",
      "10\n",
      "10\n",
      "10\n",
      "10\n",
      "10\n",
      "10\n",
      "10\n",
      "10\n",
      "10\n",
      "11\n",
      "12\n",
      "12\n",
      "12\n",
      "13\n",
      "14\n",
      "15\n",
      "15\n"
     ]
    }
   ],
   "source": [
    "price = []\n",
    "for i, chrt in enumerate(v):\n",
    "    chr_1 = v[i-1]\n",
    "    if i < len(v)-1:\n",
    "        chr_2 = v[i+1]\n",
    "    if chrt == '$':\n",
    "        price.append(chrt)\n",
    "    if ((chr_1== ' ') & (chrt.isdigit()))|((chrt.isdigit()) & (chr_2.isdigit())):\n",
    "        price.append(chrt)\n",
    "    if ((chrt== ' ') & (chr_1.isdigit()& (chr_1.isdigit()))):\n",
    "        price.append('.')\n",
    "    if (chr_2 == ' ') & (chrt.isdigit()):\n",
    "         price.append(chrt)\n",
    "    print(len(price))"
   ]
  },
  {
   "cell_type": "code",
   "execution_count": 82,
   "metadata": {},
   "outputs": [
    {
     "data": {
      "text/plain": [
       "['$', '1', '7', '.', '7', '8', '.', '1', '0', '.', '$', '1', '1', '1', '.']"
      ]
     },
     "execution_count": 82,
     "metadata": {},
     "output_type": "execute_result"
    }
   ],
   "source": [
    "price"
   ]
  },
  {
   "cell_type": "code",
   "execution_count": null,
   "metadata": {},
   "outputs": [],
   "source": []
  }
 ],
 "metadata": {
  "kernelspec": {
   "display_name": "Python 3",
   "language": "python",
   "name": "python3"
  },
  "language_info": {
   "codemirror_mode": {
    "name": "ipython",
    "version": 3
   },
   "file_extension": ".py",
   "mimetype": "text/x-python",
   "name": "python",
   "nbconvert_exporter": "python",
   "pygments_lexer": "ipython3",
   "version": "3.7.3"
  }
 },
 "nbformat": 4,
 "nbformat_minor": 2
}
