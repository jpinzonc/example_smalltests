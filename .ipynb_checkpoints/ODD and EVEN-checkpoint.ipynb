{
 "cells": [
  {
   "cell_type": "code",
   "execution_count": null,
   "metadata": {},
   "outputs": [],
   "source": []
  },
  {
   "cell_type": "code",
   "execution_count": 1,
   "metadata": {},
   "outputs": [
    {
     "name": "stdout",
     "output_type": "stream",
     "text": [
      "   col1  col2  col3  col4  col5  col6\n",
      "0     1     7    56  16.0   1.0    13\n",
      "1     2    45    67   NaN   9.0     3\n",
      "2     3    12     8  25.0  23.0    53\n",
      "3     4    56    12   6.0  56.0    72\n",
      "4     5    14    39  19.0   NaN    88\n",
      "\n",
      "     col1   col2   col3   col4   col5   col6\n",
      "0  False  False   True   True  False  False\n",
      "1   True  False  False  False  False  False\n",
      "2  False   True   True  False  False  False\n",
      "3   True   True   True   True   True   True\n",
      "4  False   True  False  False  False   True\n",
      "\n",
      "Odd numbers mean [3.0, 26.0, 53.0, 22.0, 11.0, 23.0]\n",
      "\n",
      "Even numbers mean [3.0, 27.333333333333332, 25.333333333333332, 11.0, 56.0, 80.0]\n"
     ]
    }
   ],
   "source": [
    "import pandas as pd\n",
    "import numpy as np\n",
    "df = pd.DataFrame({'col1': [1, 2, 3, 4, 5], \n",
    "              'col2': [7, 45, 12, 56, 14],\n",
    "              'col3': [56, 67, 8, 12, 39],\n",
    "              'col4': [16, np.nan, 25, 6, 19],\n",
    "              'col5': [1, 9, 23, 56, np.nan],\n",
    "              'col6': [13, 3, 53, 72, 88]})\n",
    "print(df)\n",
    "df2 = (df%2).replace(1, np.nan)==0\n",
    "print('\\n',df2)\n",
    "print('\\nOdd numbers mean {}'.format([df[col][np.logical_and.reduce([df2[col].values == False])].mean() for col in df.columns]))\n",
    "print('\\nEven numbers mean {}'.format([df[col][np.logical_and.reduce([df2[col].values == True])].mean() for col in df.columns]))\n"
   ]
  },
  {
   "cell_type": "code",
   "execution_count": null,
   "metadata": {},
   "outputs": [],
   "source": []
  },
  {
   "cell_type": "code",
   "execution_count": null,
   "metadata": {},
   "outputs": [],
   "source": []
  },
  {
   "cell_type": "code",
   "execution_count": null,
   "metadata": {},
   "outputs": [],
   "source": []
  },
  {
   "cell_type": "code",
   "execution_count": null,
   "metadata": {},
   "outputs": [],
   "source": []
  }
 ],
 "metadata": {
  "kernelspec": {
   "display_name": "Python 3",
   "language": "python",
   "name": "python3"
  },
  "language_info": {
   "codemirror_mode": {
    "name": "ipython",
    "version": 3
   },
   "file_extension": ".py",
   "mimetype": "text/x-python",
   "name": "python",
   "nbconvert_exporter": "python",
   "pygments_lexer": "ipython3",
   "version": "3.6.6"
  }
 },
 "nbformat": 4,
 "nbformat_minor": 2
}
