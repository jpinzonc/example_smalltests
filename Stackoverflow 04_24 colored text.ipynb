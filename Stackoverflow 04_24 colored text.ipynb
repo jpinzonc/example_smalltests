{
 "cells": [
  {
   "cell_type": "markdown",
   "metadata": {},
   "source": [
    "https://stackoverflow.com/questions/55839495/changing-the-color-of-part-of-the-text-a-pandas-dataframe-in-jupyter/55840120#55840120"
   ]
  },
  {
   "cell_type": "code",
   "execution_count": 1,
   "metadata": {},
   "outputs": [
    {
     "data": {
      "text/html": [
       "<style  type=\"text/css\" >\n",
       "    #T_45c35ed4_66f4_11e9_8e4c_600308a244a6row0_col2 {\n",
       "            background-color:  green;\n",
       "        }    #T_45c35ed4_66f4_11e9_8e4c_600308a244a6row1_col2 {\n",
       "            background-color:  green;\n",
       "        }    #T_45c35ed4_66f4_11e9_8e4c_600308a244a6row1_col3 {\n",
       "            background-color:  green;\n",
       "        }    #T_45c35ed4_66f4_11e9_8e4c_600308a244a6row2_col1 {\n",
       "            background-color:  green;\n",
       "        }    #T_45c35ed4_66f4_11e9_8e4c_600308a244a6row2_col3 {\n",
       "            background-color:  green;\n",
       "        }    #T_45c35ed4_66f4_11e9_8e4c_600308a244a6row3_col1 {\n",
       "            background-color:  green;\n",
       "        }    #T_45c35ed4_66f4_11e9_8e4c_600308a244a6row3_col3 {\n",
       "            background-color:  green;\n",
       "        }    #T_45c35ed4_66f4_11e9_8e4c_600308a244a6row4_col1 {\n",
       "            background-color:  green;\n",
       "        }</style><table id=\"T_45c35ed4_66f4_11e9_8e4c_600308a244a6\" ><thead>    <tr>        <th class=\"blank level0\" ></th>        <th class=\"col_heading level0 col0\" >A</th>        <th class=\"col_heading level0 col1\" >B</th>        <th class=\"col_heading level0 col2\" >C</th>        <th class=\"col_heading level0 col3\" >D</th>        <th class=\"col_heading level0 col4\" >E</th>    </tr></thead><tbody>\n",
       "                <tr>\n",
       "                        <th id=\"T_45c35ed4_66f4_11e9_8e4c_600308a244a6level0_row0\" class=\"row_heading level0 row0\" >0</th>\n",
       "                        <td id=\"T_45c35ed4_66f4_11e9_8e4c_600308a244a6row0_col0\" class=\"data row0 col0\" >-0.426106</td>\n",
       "                        <td id=\"T_45c35ed4_66f4_11e9_8e4c_600308a244a6row0_col1\" class=\"data row0 col1\" >-0.891383</td>\n",
       "                        <td id=\"T_45c35ed4_66f4_11e9_8e4c_600308a244a6row0_col2\" class=\"data row0 col2\" >0.0828601</td>\n",
       "                        <td id=\"T_45c35ed4_66f4_11e9_8e4c_600308a244a6row0_col3\" class=\"data row0 col3\" >1.40467</td>\n",
       "                        <td id=\"T_45c35ed4_66f4_11e9_8e4c_600308a244a6row0_col4\" class=\"data row0 col4\" >0.972656</td>\n",
       "            </tr>\n",
       "            <tr>\n",
       "                        <th id=\"T_45c35ed4_66f4_11e9_8e4c_600308a244a6level0_row1\" class=\"row_heading level0 row1\" >1</th>\n",
       "                        <td id=\"T_45c35ed4_66f4_11e9_8e4c_600308a244a6row1_col0\" class=\"data row1 col0\" >1.05313</td>\n",
       "                        <td id=\"T_45c35ed4_66f4_11e9_8e4c_600308a244a6row1_col1\" class=\"data row1 col1\" >0.784739</td>\n",
       "                        <td id=\"T_45c35ed4_66f4_11e9_8e4c_600308a244a6row1_col2\" class=\"data row1 col2\" >0.0230369</td>\n",
       "                        <td id=\"T_45c35ed4_66f4_11e9_8e4c_600308a244a6row1_col3\" class=\"data row1 col3\" >-0.46614</td>\n",
       "                        <td id=\"T_45c35ed4_66f4_11e9_8e4c_600308a244a6row1_col4\" class=\"data row1 col4\" >0.397953</td>\n",
       "            </tr>\n",
       "            <tr>\n",
       "                        <th id=\"T_45c35ed4_66f4_11e9_8e4c_600308a244a6level0_row2\" class=\"row_heading level0 row2\" >2</th>\n",
       "                        <td id=\"T_45c35ed4_66f4_11e9_8e4c_600308a244a6row2_col0\" class=\"data row2 col0\" >0.712062</td>\n",
       "                        <td id=\"T_45c35ed4_66f4_11e9_8e4c_600308a244a6row2_col1\" class=\"data row2 col1\" >-0.152444</td>\n",
       "                        <td id=\"T_45c35ed4_66f4_11e9_8e4c_600308a244a6row2_col2\" class=\"data row2 col2\" >0.87513</td>\n",
       "                        <td id=\"T_45c35ed4_66f4_11e9_8e4c_600308a244a6row2_col3\" class=\"data row2 col3\" >-0.41733</td>\n",
       "                        <td id=\"T_45c35ed4_66f4_11e9_8e4c_600308a244a6row2_col4\" class=\"data row2 col4\" >-0.490781</td>\n",
       "            </tr>\n",
       "            <tr>\n",
       "                        <th id=\"T_45c35ed4_66f4_11e9_8e4c_600308a244a6level0_row3\" class=\"row_heading level0 row3\" >3</th>\n",
       "                        <td id=\"T_45c35ed4_66f4_11e9_8e4c_600308a244a6row3_col0\" class=\"data row3 col0\" >0.421365</td>\n",
       "                        <td id=\"T_45c35ed4_66f4_11e9_8e4c_600308a244a6row3_col1\" class=\"data row3 col1\" >-0.249648</td>\n",
       "                        <td id=\"T_45c35ed4_66f4_11e9_8e4c_600308a244a6row3_col2\" class=\"data row3 col2\" >1.59847</td>\n",
       "                        <td id=\"T_45c35ed4_66f4_11e9_8e4c_600308a244a6row3_col3\" class=\"data row3 col3\" >0.0989031</td>\n",
       "                        <td id=\"T_45c35ed4_66f4_11e9_8e4c_600308a244a6row3_col4\" class=\"data row3 col4\" >-0.10878</td>\n",
       "            </tr>\n",
       "            <tr>\n",
       "                        <th id=\"T_45c35ed4_66f4_11e9_8e4c_600308a244a6level0_row4\" class=\"row_heading level0 row4\" >4</th>\n",
       "                        <td id=\"T_45c35ed4_66f4_11e9_8e4c_600308a244a6row4_col0\" class=\"data row4 col0\" >-0.733585</td>\n",
       "                        <td id=\"T_45c35ed4_66f4_11e9_8e4c_600308a244a6row4_col1\" class=\"data row4 col1\" >0.107995</td>\n",
       "                        <td id=\"T_45c35ed4_66f4_11e9_8e4c_600308a244a6row4_col2\" class=\"data row4 col2\" >0.66342</td>\n",
       "                        <td id=\"T_45c35ed4_66f4_11e9_8e4c_600308a244a6row4_col3\" class=\"data row4 col3\" >1.09197</td>\n",
       "                        <td id=\"T_45c35ed4_66f4_11e9_8e4c_600308a244a6row4_col4\" class=\"data row4 col4\" >-0.841637</td>\n",
       "            </tr>\n",
       "    </tbody></table>"
      ],
      "text/plain": [
       "<pandas.io.formats.style.Styler at 0x120e33f60>"
      ]
     },
     "metadata": {},
     "output_type": "display_data"
    }
   ],
   "source": [
    "import pandas as pd\n",
    "import numpy as np\n",
    "df = pd.DataFrame(np.random.randn(5,5), columns=list('ABCDE'))\n",
    "\n",
    "def highlight_vals(val, min=-0.5, max=0.5, color='green'):\n",
    "    if min < val < max:\n",
    "        return 'background-color: %s' % color\n",
    "    else:\n",
    "        return ''\n",
    "\n",
    "display(df.style.applymap(highlight_vals, subset=['B', 'C', 'D']))"
   ]
  },
  {
   "cell_type": "code",
   "execution_count": 2,
   "metadata": {},
   "outputs": [
    {
     "name": "stdout",
     "output_type": "stream",
     "text": [
      "                                 0\n",
      "0  foo;\u001b[48;5;1mbar\u001b[48;5;100m;baz\n",
      "1                              foo\n",
      "2          \u001b[48;5;1mbar\u001b[48;5;100m\n",
      "3                              baz\n"
     ]
    },
    {
     "data": {
      "text/html": [
       "<style  type=\"text/css\" >\n",
       "</style><table id=\"T_45c93142_66f4_11e9_8e4c_600308a244a6\" ><thead>    <tr>        <th class=\"blank level0\" ></th>        <th class=\"col_heading level0 col0\" >0</th>    </tr></thead><tbody>\n",
       "                <tr>\n",
       "                        <th id=\"T_45c93142_66f4_11e9_8e4c_600308a244a6level0_row0\" class=\"row_heading level0 row0\" >0</th>\n",
       "                        <td id=\"T_45c93142_66f4_11e9_8e4c_600308a244a6row0_col0\" class=\"data row0 col0\" >foo;bar;baz</td>\n",
       "            </tr>\n",
       "            <tr>\n",
       "                        <th id=\"T_45c93142_66f4_11e9_8e4c_600308a244a6level0_row1\" class=\"row_heading level0 row1\" >1</th>\n",
       "                        <td id=\"T_45c93142_66f4_11e9_8e4c_600308a244a6row1_col0\" class=\"data row1 col0\" >foo</td>\n",
       "            </tr>\n",
       "            <tr>\n",
       "                        <th id=\"T_45c93142_66f4_11e9_8e4c_600308a244a6level0_row2\" class=\"row_heading level0 row2\" >2</th>\n",
       "                        <td id=\"T_45c93142_66f4_11e9_8e4c_600308a244a6row2_col0\" class=\"data row2 col0\" >bar</td>\n",
       "            </tr>\n",
       "            <tr>\n",
       "                        <th id=\"T_45c93142_66f4_11e9_8e4c_600308a244a6level0_row3\" class=\"row_heading level0 row3\" >3</th>\n",
       "                        <td id=\"T_45c93142_66f4_11e9_8e4c_600308a244a6row3_col0\" class=\"data row3 col0\" >baz</td>\n",
       "            </tr>\n",
       "    </tbody></table>"
      ],
      "text/plain": [
       "<pandas.io.formats.style.Styler at 0x1221ec550>"
      ]
     },
     "execution_count": 2,
     "metadata": {},
     "output_type": "execute_result"
    }
   ],
   "source": [
    "import pandas as pd\n",
    "import colored\n",
    "test = pd.DataFrame(['foo;bar;baz', 'foo', 'bar', 'baz'])\n",
    "mk = lambda s: colored.bg('red') + s + colored.bg(100) if s in {'bar', } else s \n",
    "mark = lambda s: ';'.join(map(mk, s.split(';')))                    \n",
    "# for i, t in test.iterrows():\n",
    "#     print(';'.join(map(mark, t[0].split(';'))))\n",
    "print(test.applymap(mark))\n",
    "test.style.applymap(mark)"
   ]
  },
  {
   "cell_type": "code",
   "execution_count": 3,
   "metadata": {},
   "outputs": [],
   "source": [
    "test = pd.DataFrame(['foo;bar;baz', 'foo', 'bar', 'baz'])"
   ]
  },
  {
   "cell_type": "code",
   "execution_count": 4,
   "metadata": {},
   "outputs": [
    {
     "data": {
      "text/html": [
       "<div>\n",
       "<style scoped>\n",
       "    .dataframe tbody tr th:only-of-type {\n",
       "        vertical-align: middle;\n",
       "    }\n",
       "\n",
       "    .dataframe tbody tr th {\n",
       "        vertical-align: top;\n",
       "    }\n",
       "\n",
       "    .dataframe thead th {\n",
       "        text-align: right;\n",
       "    }\n",
       "</style>\n",
       "<table border=\"1\" class=\"dataframe\">\n",
       "  <thead>\n",
       "    <tr style=\"text-align: right;\">\n",
       "      <th></th>\n",
       "      <th>0</th>\n",
       "    </tr>\n",
       "  </thead>\n",
       "  <tbody>\n",
       "    <tr>\n",
       "      <th>0</th>\n",
       "      <td>foo;bar;baz</td>\n",
       "    </tr>\n",
       "    <tr>\n",
       "      <th>1</th>\n",
       "      <td>foo</td>\n",
       "    </tr>\n",
       "    <tr>\n",
       "      <th>2</th>\n",
       "      <td>bar</td>\n",
       "    </tr>\n",
       "    <tr>\n",
       "      <th>3</th>\n",
       "      <td>baz</td>\n",
       "    </tr>\n",
       "  </tbody>\n",
       "</table>\n",
       "</div>"
      ],
      "text/plain": [
       "             0\n",
       "0  foo;bar;baz\n",
       "1          foo\n",
       "2          bar\n",
       "3          baz"
      ]
     },
     "execution_count": 4,
     "metadata": {},
     "output_type": "execute_result"
    }
   ],
   "source": [
    "test"
   ]
  },
  {
   "cell_type": "code",
   "execution_count": 5,
   "metadata": {},
   "outputs": [
    {
     "data": {
      "text/html": [
       "<style  type=\"text/css\" >\n",
       "    #T_45cff9fa_66f4_11e9_8e4c_600308a244a6row0_col0 {\n",
       "            background-color:  red;\n",
       "        }    #T_45cff9fa_66f4_11e9_8e4c_600308a244a6row2_col0 {\n",
       "            background-color:  red;\n",
       "        }</style><table id=\"T_45cff9fa_66f4_11e9_8e4c_600308a244a6\" ><thead>    <tr>        <th class=\"blank level0\" ></th>        <th class=\"col_heading level0 col0\" >0</th>    </tr></thead><tbody>\n",
       "                <tr>\n",
       "                        <th id=\"T_45cff9fa_66f4_11e9_8e4c_600308a244a6level0_row0\" class=\"row_heading level0 row0\" >0</th>\n",
       "                        <td id=\"T_45cff9fa_66f4_11e9_8e4c_600308a244a6row0_col0\" class=\"data row0 col0\" >foo;bar;baz</td>\n",
       "            </tr>\n",
       "            <tr>\n",
       "                        <th id=\"T_45cff9fa_66f4_11e9_8e4c_600308a244a6level0_row1\" class=\"row_heading level0 row1\" >1</th>\n",
       "                        <td id=\"T_45cff9fa_66f4_11e9_8e4c_600308a244a6row1_col0\" class=\"data row1 col0\" >foo</td>\n",
       "            </tr>\n",
       "            <tr>\n",
       "                        <th id=\"T_45cff9fa_66f4_11e9_8e4c_600308a244a6level0_row2\" class=\"row_heading level0 row2\" >2</th>\n",
       "                        <td id=\"T_45cff9fa_66f4_11e9_8e4c_600308a244a6row2_col0\" class=\"data row2 col0\" >bar</td>\n",
       "            </tr>\n",
       "            <tr>\n",
       "                        <th id=\"T_45cff9fa_66f4_11e9_8e4c_600308a244a6level0_row3\" class=\"row_heading level0 row3\" >3</th>\n",
       "                        <td id=\"T_45cff9fa_66f4_11e9_8e4c_600308a244a6row3_col0\" class=\"data row3 col0\" >baz</td>\n",
       "            </tr>\n",
       "    </tbody></table>"
      ],
      "text/plain": [
       "<pandas.io.formats.style.Styler at 0x122278588>"
      ]
     },
     "metadata": {},
     "output_type": "display_data"
    }
   ],
   "source": [
    "def highlight_vals_test(val, text = 'bar', color='red'):\n",
    "    if text in val:\n",
    "        return 'background-color: %s' % color\n",
    "    else:\n",
    "        return ''\n",
    "\n",
    "display(test.style.applymap(highlight_vals_test))"
   ]
  },
  {
   "cell_type": "code",
   "execution_count": 6,
   "metadata": {},
   "outputs": [
    {
     "data": {
      "text/html": [
       "<style  type=\"text/css\" >\n",
       "    #T_45d5849c_66f4_11e9_8e4c_600308a244a6row0_col0 {\n",
       "            background-color:  yellow;\n",
       "        }    #T_45d5849c_66f4_11e9_8e4c_600308a244a6row0_col1 {\n",
       "            background-color:  yellow;\n",
       "        }    #T_45d5849c_66f4_11e9_8e4c_600308a244a6row1_col0 {\n",
       "            background-color:  yellow;\n",
       "        }    #T_45d5849c_66f4_11e9_8e4c_600308a244a6row1_col1 {\n",
       "            background-color:  black;\n",
       "        }    #T_45d5849c_66f4_11e9_8e4c_600308a244a6row2_col0 {\n",
       "            background-color:  yellow;\n",
       "        }    #T_45d5849c_66f4_11e9_8e4c_600308a244a6row2_col1 {\n",
       "            background-color:  black;\n",
       "        }    #T_45d5849c_66f4_11e9_8e4c_600308a244a6row3_col0 {\n",
       "            background-color:  yellow;\n",
       "        }    #T_45d5849c_66f4_11e9_8e4c_600308a244a6row3_col1 {\n",
       "            background-color:  black;\n",
       "        }</style><table id=\"T_45d5849c_66f4_11e9_8e4c_600308a244a6\" ><thead>    <tr>        <th class=\"blank level0\" ></th>        <th class=\"col_heading level0 col0\" >df1</th>        <th class=\"col_heading level0 col1\" >df2</th>    </tr></thead><tbody>\n",
       "                <tr>\n",
       "                        <th id=\"T_45d5849c_66f4_11e9_8e4c_600308a244a6level0_row0\" class=\"row_heading level0 row0\" >0</th>\n",
       "                        <td id=\"T_45d5849c_66f4_11e9_8e4c_600308a244a6row0_col0\" class=\"data row0 col0\" >i like to shop at store a.</td>\n",
       "                        <td id=\"T_45d5849c_66f4_11e9_8e4c_600308a244a6row0_col1\" class=\"data row0 col1\" >store a</td>\n",
       "            </tr>\n",
       "            <tr>\n",
       "                        <th id=\"T_45d5849c_66f4_11e9_8e4c_600308a244a6level0_row1\" class=\"row_heading level0 row1\" >1</th>\n",
       "                        <td id=\"T_45d5849c_66f4_11e9_8e4c_600308a244a6row1_col0\" class=\"data row1 col0\" >he likes to shop at the store b.</td>\n",
       "                        <td id=\"T_45d5849c_66f4_11e9_8e4c_600308a244a6row1_col1\" class=\"data row1 col1\" >store b</td>\n",
       "            </tr>\n",
       "            <tr>\n",
       "                        <th id=\"T_45d5849c_66f4_11e9_8e4c_600308a244a6level0_row2\" class=\"row_heading level0 row2\" >2</th>\n",
       "                        <td id=\"T_45d5849c_66f4_11e9_8e4c_600308a244a6row2_col0\" class=\"data row2 col0\" >she is happy to shop at store c.</td>\n",
       "                        <td id=\"T_45d5849c_66f4_11e9_8e4c_600308a244a6row2_col1\" class=\"data row2 col1\" >store c</td>\n",
       "            </tr>\n",
       "            <tr>\n",
       "                        <th id=\"T_45d5849c_66f4_11e9_8e4c_600308a244a6level0_row3\" class=\"row_heading level0 row3\" >3</th>\n",
       "                        <td id=\"T_45d5849c_66f4_11e9_8e4c_600308a244a6row3_col0\" class=\"data row3 col0\" >we want to shop at the store d.</td>\n",
       "                        <td id=\"T_45d5849c_66f4_11e9_8e4c_600308a244a6row3_col1\" class=\"data row3 col1\" >store d</td>\n",
       "            </tr>\n",
       "    </tbody></table>"
      ],
      "text/plain": [
       "<pandas.io.formats.style.Styler at 0x111c0b320>"
      ]
     },
     "execution_count": 6,
     "metadata": {},
     "output_type": "execute_result"
    }
   ],
   "source": [
    "import pandas as pd\n",
    "\n",
    "df1 = [ 'i like to shop at store a.' , 'he likes to shop at the store b.', 'she is happy to shop at store c.', 'we want to shop at the store d.']\n",
    "df2 = [ 'store a', 'store b', 'store c', 'store d' ]\n",
    "df3 = [ 'like to', 'likes to shop', 'at store' , 'store a', 'we']\n",
    "\n",
    "myDataSet = list(zip(df1,df2))\n",
    "df = pd.DataFrame(data = myDataSet, columns=['df1', 'df2'])\n",
    "\n",
    "def in_statements(val):\n",
    "    for statement in df3:\n",
    "        if statement in val:\n",
    "            color = 'yellow'\n",
    "            break\n",
    "        else:\n",
    "            color = 'black'\n",
    "    return 'background-color: %s' % color\n",
    "\n",
    "df = df.style.applymap(in_statements)\n",
    "\n",
    "df"
   ]
  },
  {
   "cell_type": "code",
   "execution_count": 7,
   "metadata": {},
   "outputs": [
    {
     "name": "stdout",
     "output_type": "stream",
     "text": [
      "\u001b[38;5;1m Hello World !!! \u001b[0m\n",
      "\u001b[38;5;1m\u001b[48;5;15m Hello World !!! \u001b[0m!!!\n"
     ]
    }
   ],
   "source": [
    "from colored import fg, bg, attr\n",
    "print ('%s Hello World !!! %s' % (fg(1), attr(0)))\n",
    "\n",
    "print ('%s%s Hello World !!! %s!!!' % (fg(1), bg(15), attr(0)))"
   ]
  },
  {
   "cell_type": "code",
   "execution_count": 8,
   "metadata": {},
   "outputs": [
    {
     "name": "stdout",
     "output_type": "stream",
     "text": [
      "0 foo;bar;baz\n",
      "here foo;bar;baz foo;\u001b[38;5;1m\u001b[48;5;15m bar \u001b[0m;baz\n",
      "1 foo\n",
      "2 bar\n",
      "here bar \u001b[38;5;1m\u001b[48;5;15m bar \u001b[0m\n",
      "3 baz\n"
     ]
    },
    {
     "data": {
      "text/html": [
       "<style  type=\"text/css\" >\n",
       "</style><table id=\"T_45dc8710_66f4_11e9_8e4c_600308a244a6\" ><thead>    <tr>        <th class=\"blank level0\" ></th>        <th class=\"col_heading level0 col0\" >0</th>        <th class=\"col_heading level0 col1\" >colored</th>    </tr></thead><tbody>\n",
       "                <tr>\n",
       "                        <th id=\"T_45dc8710_66f4_11e9_8e4c_600308a244a6level0_row0\" class=\"row_heading level0 row0\" >0</th>\n",
       "                        <td id=\"T_45dc8710_66f4_11e9_8e4c_600308a244a6row0_col0\" class=\"data row0 col0\" >foo;bar;baz</td>\n",
       "                        <td id=\"T_45dc8710_66f4_11e9_8e4c_600308a244a6row0_col1\" class=\"data row0 col1\" >nan</td>\n",
       "            </tr>\n",
       "            <tr>\n",
       "                        <th id=\"T_45dc8710_66f4_11e9_8e4c_600308a244a6level0_row1\" class=\"row_heading level0 row1\" >1</th>\n",
       "                        <td id=\"T_45dc8710_66f4_11e9_8e4c_600308a244a6row1_col0\" class=\"data row1 col0\" >foo</td>\n",
       "                        <td id=\"T_45dc8710_66f4_11e9_8e4c_600308a244a6row1_col1\" class=\"data row1 col1\" >nan</td>\n",
       "            </tr>\n",
       "            <tr>\n",
       "                        <th id=\"T_45dc8710_66f4_11e9_8e4c_600308a244a6level0_row2\" class=\"row_heading level0 row2\" >2</th>\n",
       "                        <td id=\"T_45dc8710_66f4_11e9_8e4c_600308a244a6row2_col0\" class=\"data row2 col0\" >bar</td>\n",
       "                        <td id=\"T_45dc8710_66f4_11e9_8e4c_600308a244a6row2_col1\" class=\"data row2 col1\" >nan</td>\n",
       "            </tr>\n",
       "            <tr>\n",
       "                        <th id=\"T_45dc8710_66f4_11e9_8e4c_600308a244a6level0_row3\" class=\"row_heading level0 row3\" >3</th>\n",
       "                        <td id=\"T_45dc8710_66f4_11e9_8e4c_600308a244a6row3_col0\" class=\"data row3 col0\" >baz</td>\n",
       "                        <td id=\"T_45dc8710_66f4_11e9_8e4c_600308a244a6row3_col1\" class=\"data row3 col1\" >nan</td>\n",
       "            </tr>\n",
       "    </tbody></table>"
      ],
      "text/plain": [
       "<pandas.io.formats.style.Styler at 0x111bed400>"
      ]
     },
     "execution_count": 8,
     "metadata": {},
     "output_type": "execute_result"
    }
   ],
   "source": [
    "import re\n",
    "def highlight_vals_test2(df, text = 'bar', color='red'):\n",
    "    for i, val in enumerate(df[0]):\n",
    "        print(i, val)\n",
    "        df.loc[:,'colored'] = np.nan\n",
    "        if text in val:\n",
    "            text2 = '%s%s ' +text + ' %s' \n",
    "            string = re.sub(text, text2, val)\n",
    "            new_s = (string % (fg(1), bg(15), attr(0)))\n",
    "            print('here', df[0][i], new_s)\n",
    "            df.loc[:,'colored'] = np.where(df[0]==val, new_s, df['colored'])\n",
    "\n",
    "    return(df)\n",
    "#     else:\n",
    "#         return ''\n",
    "\n",
    "highlight_vals_test2(test).style"
   ]
  }
 ],
 "metadata": {
  "kernelspec": {
   "display_name": "Python 3",
   "language": "python",
   "name": "python3"
  },
  "language_info": {
   "codemirror_mode": {
    "name": "ipython",
    "version": 3
   },
   "file_extension": ".py",
   "mimetype": "text/x-python",
   "name": "python",
   "nbconvert_exporter": "python",
   "pygments_lexer": "ipython3",
   "version": "3.7.3"
  }
 },
 "nbformat": 4,
 "nbformat_minor": 2
}
