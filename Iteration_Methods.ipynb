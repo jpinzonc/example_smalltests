{
  "nbformat": 4,
  "nbformat_minor": 0,
  "metadata": {
    "colab": {
      "name": "Untitled8.ipynb",
      "version": "0.3.2",
      "provenance": [],
      "include_colab_link": true
    },
    "kernelspec": {
      "name": "python3",
      "display_name": "Python 3"
    }
  },
  "cells": [
    {
      "cell_type": "markdown",
      "metadata": {
        "id": "view-in-github",
        "colab_type": "text"
      },
      "source": [
        "<a href=\"https://colab.research.google.com/github/jpinzonc/example_smalltests/blob/master/Iteration_Methods.ipynb\" target=\"_parent\"><img src=\"https://colab.research.google.com/assets/colab-badge.svg\" alt=\"Open In Colab\"/></a>"
      ]
    },
    {
      "metadata": {
        "id": "HAjbw5DXTE7w",
        "colab_type": "code",
        "colab": {
          "base_uri": "https://localhost:8080/",
          "height": 34
        },
        "outputId": "e340635c-a9b6-4a86-c029-b78c92397536"
      },
      "cell_type": "code",
      "source": [
        "import numpy as np\n",
        "import pandas as pd\n",
        "import time\n",
        "from scipy import stats\n",
        "\n",
        "def timeit(method):\n",
        "     def timed(*args, **kw):\n",
        "         ts = time.time()\n",
        "         result = method(*args, **kw)\n",
        "         te = time.time()\n",
        "         kw['log_time'].append(int((te - ts) * 1000))\n",
        "         return result\n",
        "     return timed\n",
        "\n",
        "def my_compute(x):\n",
        "    return x + 1\n",
        "\n",
        "@timeit\n",
        "def use_for_loop_loc(dataset, **kwargs):\n",
        "    \"\"\" Use panda loc() function to retrieve and assign values\"\"\"\n",
        "    dataset['b'] = np.nan\n",
        "    for i in range(len(dataset)):\n",
        "        dataset.loc[i, 'b'] = my_compute(dataset.loc[i, 'a'])\n",
        "\n",
        "@timeit\n",
        "def use_for_loop_at(dataset, **kwargs):\n",
        "    \"\"\" Use panda at() function to retrieve and assign value\"\"\"\n",
        "    dataset['b'] = np.nan\n",
        "    for i in range(len(dataset)):\n",
        "        dataset.at[i, 'b'] = my_compute(dataset.at[i, 'a'])\n",
        "\n",
        "@timeit\n",
        "def use_for_loop_iat(dataset, **kwargs):\n",
        "    \"\"\" Use panda iat() function to retrieve and assign value\"\"\"\n",
        "    dataset['b'] = np.nan\n",
        "    for i in range(len(dataset)):\n",
        "        dataset.iat[i, 1] = my_compute(dataset.iat[i, 0])\n",
        "\n",
        "@timeit\n",
        "def use_panda_iterrows(dataset, **kwargs):\n",
        "    \"\"\" Use panda iterrows() to iterate \"\"\"\n",
        "    b = np.empty(len(dataset))\n",
        "    for index, row in dataset.iterrows():\n",
        "       b = my_compute(row['a'])\n",
        "    dataset['b'] = b\n",
        "\n",
        "@timeit\n",
        "def use_column(dataset, **kwargs):\n",
        "    dataset['b'] = dataset.a + 1\n",
        "\n",
        "@timeit\n",
        "def use_panda_apply(dataset, **kwargs):\n",
        "    \"\"\" Use panda built-in apply function\"\"\"\n",
        "    dataset['b'] = dataset.apply(my_compute)\n",
        "\n",
        "@timeit\n",
        "def use_zip(dataset, **kwargs):\n",
        "    \"\"\" Use enumerate function to iterate\"\"\"\n",
        "    b = np.empty(len(dataset))\n",
        "    for i, (x) in enumerate(zip(dataset.a)):\n",
        "        b[i] = my_compute(x[0])\n",
        "    dataset['b'] = b\n",
        "\n",
        "@timeit\n",
        "def use_numpy_for_loop(dataset, **kwargs):\n",
        "    \"\"\" Get column values as a numpy array compute and then assign values back to panda data frame\"\"\"\n",
        "    b = np.empty(len(dataset))\n",
        "    original = dataset.a\n",
        "    for i in range(len(dataset)):\n",
        "        b[i] = my_compute(original[i])\n",
        "    dataset['b'] = b\n",
        "\n",
        "def time_this(func, method_name, N=1000):\n",
        "    \"\"\" Execute the given function 100 times and measure the execution time for each run.\n",
        "        Returns a dictionary containing the statistics based on the execution times\n",
        "    \"\"\"\n",
        "    repeats = 100\n",
        "    a = np.repeat(1000, N)\n",
        "    pd_dataset = pd.DataFrame({'a': a})\n",
        "\n",
        "    timing = []\n",
        "    for i in range(repeats):\n",
        "        func(pd_dataset.copy(), log_time=timing)\n",
        "    return {'method': method_name, 'average': np.average(timing), 'min': np.min(timing), 'max': np.max(timing)}\n",
        "\n",
        "def measure_time(dataset_size):\n",
        "    all_timing = pd.DataFrame()\n",
        "    all_timing = all_timing.append([time_this(use_column,'use_column', N=dataset_size)])\n",
        "    all_timing = all_timing.append([time_this(use_panda_apply,'use_panda_apply', N=dataset_size)])\n",
        "\n",
        "    all_timing = all_timing.append([time_this(use_for_loop_loc,'use_for_loop_loc', N=dataset_size)])\n",
        "    all_timing = all_timing.append([time_this(use_for_loop_at,'use_for_loop_at', N=dataset_size)])\n",
        "    all_timing = all_timing.append([time_this(use_for_loop_iat,'use_for_loop_iat', N=dataset_size)])\n",
        "    all_timing = all_timing.append([time_this(use_numpy_for_loop,'use_numpy_for_loop', N=dataset_size)])\n",
        "    all_timing = all_timing.append([time_this(use_panda_iterrows,'use_panda_iterrows', N=dataset_size)])\n",
        "    all_timing = all_timing.append([time_this(use_zip,'use_zip')])\n",
        "    print(all_timing[['method', 'average', 'min', 'max']])\n",
        "\n",
        "    \n",
        "print('DONE')"
      ],
      "execution_count": 19,
      "outputs": [
        {
          "output_type": "stream",
          "text": [
            "DONE\n"
          ],
          "name": "stdout"
        }
      ]
    },
    {
      "metadata": {
        "id": "W4UPvWi-TqRW",
        "colab_type": "code",
        "colab": {
          "base_uri": "https://localhost:8080/",
          "height": 170
        },
        "outputId": "8803993c-1376-4abd-eb5f-bd8d022f40ad"
      },
      "cell_type": "code",
      "source": [
        "measure_time(1000)"
      ],
      "execution_count": 22,
      "outputs": [
        {
          "output_type": "stream",
          "text": [
            "               method  average  min  max\n",
            "0          use_column     0.03    0    2\n",
            "0     use_panda_apply     1.00    1    1\n",
            "0    use_for_loop_loc   400.98  395  416\n",
            "0     use_for_loop_at    15.01   15   16\n",
            "0    use_for_loop_iat    16.28   16   17\n",
            "0  use_numpy_for_loop    10.07   10   13\n",
            "0  use_panda_iterrows    48.10   48   50\n",
            "0             use_zip     0.00    0    0\n"
          ],
          "name": "stdout"
        }
      ]
    },
    {
      "metadata": {
        "id": "eZVo8Kw6TufI",
        "colab_type": "code",
        "colab": {}
      },
      "cell_type": "code",
      "source": [
        ""
      ],
      "execution_count": 0,
      "outputs": []
    },
    {
      "metadata": {
        "id": "0TCiYO-WUfCW",
        "colab_type": "code",
        "colab": {}
      },
      "cell_type": "code",
      "source": [
        ""
      ],
      "execution_count": 0,
      "outputs": []
    }
  ]
}