{
 "cells": [
  {
   "cell_type": "raw",
   "metadata": {},
   "source": [
    "Swifter."
   ]
  },
  {
   "cell_type": "markdown",
   "metadata": {},
   "source": [
    "https://stackoverflow.com/questions/55435380/how-to-fix-level-must-be-same-as-name-none-error-in-pandas-apply"
   ]
  },
  {
   "cell_type": "code",
   "execution_count": 2,
   "metadata": {},
   "outputs": [],
   "source": [
    "import pandas as pd\n",
    "import swifter"
   ]
  },
  {
   "cell_type": "code",
   "execution_count": 3,
   "metadata": {},
   "outputs": [
    {
     "data": {
      "text/html": [
       "<div>\n",
       "<style scoped>\n",
       "    .dataframe tbody tr th:only-of-type {\n",
       "        vertical-align: middle;\n",
       "    }\n",
       "\n",
       "    .dataframe tbody tr th {\n",
       "        vertical-align: top;\n",
       "    }\n",
       "\n",
       "    .dataframe thead th {\n",
       "        text-align: right;\n",
       "    }\n",
       "</style>\n",
       "<table border=\"1\" class=\"dataframe\">\n",
       "  <thead>\n",
       "    <tr style=\"text-align: right;\">\n",
       "      <th></th>\n",
       "      <th>word</th>\n",
       "      <th>freq</th>\n",
       "      <th>doc</th>\n",
       "    </tr>\n",
       "  </thead>\n",
       "  <tbody>\n",
       "    <tr>\n",
       "      <th>0</th>\n",
       "      <td>abc</td>\n",
       "      <td>5</td>\n",
       "      <td>666</td>\n",
       "    </tr>\n",
       "    <tr>\n",
       "      <th>1</th>\n",
       "      <td>abd cds</td>\n",
       "      <td>6</td>\n",
       "      <td>5555</td>\n",
       "    </tr>\n",
       "    <tr>\n",
       "      <th>2</th>\n",
       "      <td>abc cds fgh</td>\n",
       "      <td>7</td>\n",
       "      <td>333</td>\n",
       "    </tr>\n",
       "  </tbody>\n",
       "</table>\n",
       "</div>"
      ],
      "text/plain": [
       "          word  freq   doc\n",
       "0          abc     5   666\n",
       "1      abd cds     6  5555\n",
       "2  abc cds fgh     7   333"
      ]
     },
     "execution_count": 3,
     "metadata": {},
     "output_type": "execute_result"
    }
   ],
   "source": [
    "df = pd.DataFrame({'word': [\"abc\",\"abd cds\" ,\"abc cds fgh\"], 'freq': [5, 6, 7],\"doc\":[\"666\",\"5555\",\"333\"]})\n",
    "df"
   ]
  },
  {
   "cell_type": "code",
   "execution_count": 4,
   "metadata": {},
   "outputs": [
    {
     "data": {
      "text/html": [
       "<div>\n",
       "<style scoped>\n",
       "    .dataframe tbody tr th:only-of-type {\n",
       "        vertical-align: middle;\n",
       "    }\n",
       "\n",
       "    .dataframe tbody tr th {\n",
       "        vertical-align: top;\n",
       "    }\n",
       "\n",
       "    .dataframe thead th {\n",
       "        text-align: right;\n",
       "    }\n",
       "</style>\n",
       "<table border=\"1\" class=\"dataframe\">\n",
       "  <thead>\n",
       "    <tr style=\"text-align: right;\">\n",
       "      <th></th>\n",
       "      <th>word</th>\n",
       "      <th>freq</th>\n",
       "      <th>doc</th>\n",
       "      <th>ngram</th>\n",
       "    </tr>\n",
       "  </thead>\n",
       "  <tbody>\n",
       "    <tr>\n",
       "      <th>0</th>\n",
       "      <td>abc</td>\n",
       "      <td>5</td>\n",
       "      <td>666</td>\n",
       "      <td>ngram1</td>\n",
       "    </tr>\n",
       "    <tr>\n",
       "      <th>1</th>\n",
       "      <td>abd cds</td>\n",
       "      <td>6</td>\n",
       "      <td>5555</td>\n",
       "      <td>ngram2</td>\n",
       "    </tr>\n",
       "    <tr>\n",
       "      <th>2</th>\n",
       "      <td>abc cds fgh</td>\n",
       "      <td>7</td>\n",
       "      <td>333</td>\n",
       "      <td>ngram3</td>\n",
       "    </tr>\n",
       "  </tbody>\n",
       "</table>\n",
       "</div>"
      ],
      "text/plain": [
       "          word  freq   doc   ngram\n",
       "0          abc     5   666  ngram1\n",
       "1      abd cds     6  5555  ngram2\n",
       "2  abc cds fgh     7   333  ngram3"
      ]
     },
     "execution_count": 4,
     "metadata": {},
     "output_type": "execute_result"
    }
   ],
   "source": [
    "def alert(c):\n",
    "    if c.count(\" \") == 0:\n",
    "        return 'ngram1'\n",
    "    elif c.count(\" \") == 1:\n",
    "        return 'ngram2'\n",
    "    elif c.count(\" \")==2:\n",
    "        return 'ngram3'\n",
    "    else:\n",
    "        return 'NotAvailable'\n",
    "def count_(c):\n",
    "    return c.count(\" \")\n",
    "\n",
    "df['ngram'] = df[\"word\"].apply(alert)\n",
    "## These do not work \n",
    "#df['ngram'] = df[\"word\"].swifter.apply(lambda x: alert(x))\n",
    "#df['ngram'] = df[\"freq\"].swifter.apply(lambda x: alert(x))\n",
    "## Nor this one:\n",
    "#df.apply(lambda x: df['word'][x].count(\" \"))\n",
    "df"
   ]
  },
  {
   "cell_type": "code",
   "execution_count": 5,
   "metadata": {},
   "outputs": [
    {
     "name": "stderr",
     "output_type": "stream",
     "text": [
      "Pandas Apply: 100%|██████████| 3/3 [00:00<00:00, 1201.46it/s]\n"
     ]
    },
    {
     "data": {
      "text/html": [
       "<div>\n",
       "<style scoped>\n",
       "    .dataframe tbody tr th:only-of-type {\n",
       "        vertical-align: middle;\n",
       "    }\n",
       "\n",
       "    .dataframe tbody tr th {\n",
       "        vertical-align: top;\n",
       "    }\n",
       "\n",
       "    .dataframe thead th {\n",
       "        text-align: right;\n",
       "    }\n",
       "</style>\n",
       "<table border=\"1\" class=\"dataframe\">\n",
       "  <thead>\n",
       "    <tr style=\"text-align: right;\">\n",
       "      <th></th>\n",
       "      <th>word</th>\n",
       "      <th>freq</th>\n",
       "      <th>doc</th>\n",
       "      <th>ngram</th>\n",
       "      <th>ngram_2</th>\n",
       "    </tr>\n",
       "  </thead>\n",
       "  <tbody>\n",
       "    <tr>\n",
       "      <th>0</th>\n",
       "      <td>abc</td>\n",
       "      <td>5</td>\n",
       "      <td>666</td>\n",
       "      <td>ngram1</td>\n",
       "      <td>ngram1</td>\n",
       "    </tr>\n",
       "    <tr>\n",
       "      <th>1</th>\n",
       "      <td>abd cds</td>\n",
       "      <td>6</td>\n",
       "      <td>5555</td>\n",
       "      <td>ngram2</td>\n",
       "      <td>ngram2</td>\n",
       "    </tr>\n",
       "    <tr>\n",
       "      <th>2</th>\n",
       "      <td>abc cds fgh</td>\n",
       "      <td>7</td>\n",
       "      <td>333</td>\n",
       "      <td>ngram3</td>\n",
       "      <td>ngram3</td>\n",
       "    </tr>\n",
       "  </tbody>\n",
       "</table>\n",
       "</div>"
      ],
      "text/plain": [
       "          word  freq   doc   ngram ngram_2\n",
       "0          abc     5   666  ngram1  ngram1\n",
       "1      abd cds     6  5555  ngram2  ngram2\n",
       "2  abc cds fgh     7   333  ngram3  ngram3"
      ]
     },
     "execution_count": 5,
     "metadata": {},
     "output_type": "execute_result"
    }
   ],
   "source": [
    "import string \n",
    "df['ngram'] = df[\"word\"].apply(alert)\n",
    "def alert_1(s):\n",
    "    ng = sum([i.strip(string.punctuation).isalpha() for i in s.split()])\n",
    "    if ng == 1:\n",
    "        return 'ngram1'\n",
    "    elif ng == 2:\n",
    "        return 'ngram2'\n",
    "    elif ng ==3:\n",
    "        return 'ngram3'\n",
    "    else:\n",
    "        return 'NotAvailable'\n",
    "    return sum([i.strip(string.punctuation).isalpha() for i in s.split()])\n",
    "\n",
    "df.loc[:,\"ngram_2\"] = df[\"word\"].swifter.apply(alert_1)\n",
    "df"
   ]
  },
  {
   "cell_type": "code",
   "execution_count": null,
   "metadata": {},
   "outputs": [],
   "source": []
  }
 ],
 "metadata": {
  "kernelspec": {
   "display_name": "Python 3",
   "language": "python",
   "name": "python3"
  },
  "language_info": {
   "codemirror_mode": {
    "name": "ipython",
    "version": 3
   },
   "file_extension": ".py",
   "mimetype": "text/x-python",
   "name": "python",
   "nbconvert_exporter": "python",
   "pygments_lexer": "ipython3",
   "version": "3.6.8"
  }
 },
 "nbformat": 4,
 "nbformat_minor": 2
}
