{
 "cells": [
  {
   "cell_type": "markdown",
   "metadata": {},
   "source": [
    "# Detecting variations in the line \n",
    "Answer to:\n",
    "https://stackoverflow.com/questions/53435573/how-to-detect-contiguous-spans-in-which-data-changes-linearly-within-a-dataframe"
   ]
  },
  {
   "cell_type": "code",
   "execution_count": 1,
   "metadata": {},
   "outputs": [
    {
     "name": "stderr",
     "output_type": "stream",
     "text": [
      "/Users/jpinzon/anaconda3/lib/python3.6/site-packages/ipykernel_launcher.py:29: DeprecationWarning: parsing timezone aware datetimes is deprecated; this will raise an error in the future\n"
     ]
    },
    {
     "data": {
      "text/plain": [
       "<Figure size 640x480 with 1 Axes>"
      ]
     },
     "metadata": {},
     "output_type": "display_data"
    }
   ],
   "source": [
    "import pandas as pd\n",
    "import matplotlib.pyplot as plt\n",
    "from sklearn import linear_model, datasets\n",
    "import numpy as np\n",
    "\n",
    "## 1. Generate random data for toy sample\n",
    "times = pd.date_range('2016-08-10', periods=100, freq='15min')\n",
    "df = pd.DataFrame(np.random.randint(0,100,size=(100, 1)), index=times, columns=[\"data\"])\n",
    "\n",
    "## 2. Set line1 within random data\n",
    "date_range1_start = \"2016-08-10 08:15\"\n",
    "date_range1_end = \"2016-08-10 15:00\"\n",
    "line1 = df.data[date_range1_start:date_range1_end]\n",
    "value_start1 = 10\n",
    "values1 = range(value_start1,value_start1+len(line1))\n",
    "df.data[date_range1_start:date_range1_end] = values1\n",
    "\n",
    "## 3. Set line2 within random data\n",
    "date_range2_start = \"2016-08-10 17:00\"\n",
    "date_range2_end = \"2016-08-10 22:30\"\n",
    "value_start2 = 90\n",
    "line2 = df.data[date_range2_start:date_range2_end]\n",
    "values2 = range(value_start2,value_start2-len(line2),-1)\n",
    "df.data[date_range2_start:date_range2_end] = values2\n",
    "\n",
    "\n",
    "## 4. Create arrays\n",
    "X = np.asarray(df.index)\n",
    "X = ( X - np.datetime64('1970-01-01T00:00:00Z')) / np.timedelta64(1, 's')\n",
    "X = X.reshape(-1,1)\n",
    "y = np.asarray(df.data.tolist())\n",
    "\n",
    "## 5. Fit line using all data\n",
    "lr = linear_model.LinearRegression()\n",
    "lr.fit(X, y)\n",
    "\n",
    "## 6. Predict values\n",
    "z = lr.predict(X)\n",
    "df['linear fit'] = z\n",
    "\n",
    "## 7. Plot\n",
    "df.plot()\n",
    "plt.show()"
   ]
  },
  {
   "cell_type": "code",
   "execution_count": 2,
   "metadata": {},
   "outputs": [
    {
     "name": "stderr",
     "output_type": "stream",
     "text": [
      "/Users/jpinzon/anaconda3/lib/python3.6/site-packages/ipykernel_launcher.py:28: DeprecationWarning: parsing timezone aware datetimes is deprecated; this will raise an error in the future\n"
     ]
    },
    {
     "data": {
      "text/html": [
       "<div>\n",
       "<style scoped>\n",
       "    .dataframe tbody tr th:only-of-type {\n",
       "        vertical-align: middle;\n",
       "    }\n",
       "\n",
       "    .dataframe tbody tr th {\n",
       "        vertical-align: top;\n",
       "    }\n",
       "\n",
       "    .dataframe thead th {\n",
       "        text-align: right;\n",
       "    }\n",
       "</style>\n",
       "<table border=\"1\" class=\"dataframe\">\n",
       "  <thead>\n",
       "    <tr style=\"text-align: right;\">\n",
       "      <th></th>\n",
       "      <th>start</th>\n",
       "      <th>end</th>\n",
       "    </tr>\n",
       "  </thead>\n",
       "  <tbody>\n",
       "    <tr>\n",
       "      <th>0</th>\n",
       "      <td>2016-08-10 08:15:00</td>\n",
       "      <td>2016-08-10 15:00:00</td>\n",
       "    </tr>\n",
       "    <tr>\n",
       "      <th>1</th>\n",
       "      <td>2016-08-10 17:00:00</td>\n",
       "      <td>2016-08-10 22:30:00</td>\n",
       "    </tr>\n",
       "  </tbody>\n",
       "</table>\n",
       "</div>"
      ],
      "text/plain": [
       "                 start                  end\n",
       "0  2016-08-10 08:15:00  2016-08-10 15:00:00\n",
       "1  2016-08-10 17:00:00  2016-08-10 22:30:00"
      ]
     },
     "execution_count": 2,
     "metadata": {},
     "output_type": "execute_result"
    }
   ],
   "source": [
    "import pandas as pd\n",
    "import matplotlib.pyplot as plt\n",
    "from sklearn import linear_model, datasets\n",
    "import numpy as np\n",
    "\n",
    "## 1. Generate random data for toy sample\n",
    "times = pd.date_range('2016-08-10', periods=100, freq='15min')\n",
    "df = pd.DataFrame(np.random.randint(0,100,size=(100, 1)), index=times, columns=[\"data\"])\n",
    "\n",
    "## 2. Set line1 within random data\n",
    "date_range1_start = \"2016-08-10 08:15\"\n",
    "date_range1_end = \"2016-08-10 15:00\"\n",
    "line1 = df.data[date_range1_start:date_range1_end]\n",
    "value_start1 = 10\n",
    "values1 = range(value_start1,value_start1+len(line1))\n",
    "df.data[date_range1_start:date_range1_end] = values1\n",
    "\n",
    "## 3. Set line2 within random data\n",
    "date_range2_start = \"2016-08-10 17:00\"\n",
    "date_range2_end = \"2016-08-10 22:30\"\n",
    "value_start2 = 90\n",
    "line2 = df.data[date_range2_start:date_range2_end]\n",
    "values2 = range(value_start2,value_start2-len(line2),-1)\n",
    "df.data[date_range2_start:date_range2_end] = values2\n",
    "\n",
    "## 4. Create arrays\n",
    "X = np.asarray(df.index)\n",
    "X = ( X - np.datetime64('1970-01-01T00:00:00Z')) / np.timedelta64(1, 's')\n",
    "X = X.reshape(-1,1)\n",
    "y = np.asarray(df.data.tolist())\n",
    "\n",
    "## 5. Fit line using all data\n",
    "lr = linear_model.RANSACRegressor(residual_threshold=0.001)\n",
    "lr.fit(X, y)\n",
    "\n",
    "# Placeholders for start/end times\n",
    "start_times = []\n",
    "end_times = []\n",
    "\n",
    "# Repeat fit and check if number of span inliers is greater than 20\n",
    "while np.sum(lr.inlier_mask_) > 20:\n",
    "\n",
    "    # Remove false inliers\n",
    "    lr.inlier_mask_ = np.convolve(lr.inlier_mask_.astype(int), [1,1,1], mode='same') > 1\n",
    "\n",
    "    # Store start/end times\n",
    "    in_span = np.squeeze(np.where(lr.inlier_mask_))\n",
    "    start_times.append(str(times[in_span[0]]))\n",
    "    end_times.append(str(times[in_span[-1]]))\n",
    "\n",
    "    # Get outlier and check for another span\n",
    "    outliers = np.logical_not(lr.inlier_mask_)\n",
    "    X = X[outliers]\n",
    "    y = y[outliers]\n",
    "    times = times[outliers]\n",
    "\n",
    "    # Fit to remaining points\n",
    "    lr.fit(X, y)\n",
    "\n",
    "out = pd.DataFrame({'start':start_times, 'end':end_times}, columns=['start','end'])\n",
    "out.sort_values('start')"
   ]
  },
  {
   "cell_type": "code",
   "execution_count": 3,
   "metadata": {},
   "outputs": [
    {
     "data": {
      "image/png": "[encoded data removed]",
      "text/plain": [
       "<Figure size 432x288 with 1 Axes>"
      ]
     },
     "metadata": {},
     "output_type": "display_data"
    }
   ],
   "source": [
    "plt.plot(df['data'],c='b')\n",
    "\n",
    "for idx,row in out.iterrows():\n",
    "    x0 = np.datetime64(row['start'])\n",
    "    y0 = df.loc[x0]['data']\n",
    "    x1 = np.datetime64(row['end'])\n",
    "    y1 = df.loc[x1]['data']\n",
    "    plt.plot([x0,x1],[y0,y1],c='r')"
   ]
  },
  {
   "cell_type": "code",
   "execution_count": null,
   "metadata": {},
   "outputs": [],
   "source": []
  }
 ],
 "metadata": {
  "kernelspec": {
   "display_name": "Python 3",
   "language": "python",
   "name": "python3"
  },
  "language_info": {
   "codemirror_mode": {
    "name": "ipython",
    "version": 3
   },
   "file_extension": ".py",
   "mimetype": "text/x-python",
   "name": "python",
   "nbconvert_exporter": "python",
   "pygments_lexer": "ipython3",
   "version": "3.6.8"
  }
 },
 "nbformat": 4,
 "nbformat_minor": 2
}
