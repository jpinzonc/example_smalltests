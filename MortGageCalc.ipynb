{
 "cells": [
  {
   "cell_type": "code",
   "execution_count": 1,
   "metadata": {},
   "outputs": [],
   "source": [
    "import pandas as pd\n",
    "import numpy as np\n",
    "import datetime\n",
    "from dateutil.relativedelta import relativedelta"
   ]
  },
  {
   "cell_type": "code",
   "execution_count": 80,
   "metadata": {},
   "outputs": [
    {
     "name": "stdin",
     "output_type": "stream",
     "text": [
      "Enter the amount 100000\n",
      "Enter the interest rate (%) 4.5\n",
      "Enter the lenght 20\n",
      "Enter the start date (mm-dd-yy) 01-01-18\n"
     ]
    }
   ],
   "source": [
    "now = datetime.datetime.today()\n",
    "loan_amount   = int(input('Enter the amount'))\n",
    "interest = float(input('Enter the interest rate (%)'))\n",
    "n_years    = int(input('Enter the lenght'))\n",
    "start_date = input('Enter the start date (mm-dd-yy)')\n",
    "start_date = datetime.datetime.strptime(start_date, '%m-%d-%y') "
   ]
  },
  {
   "cell_type": "code",
   "execution_count": 81,
   "metadata": {},
   "outputs": [],
   "source": [
    "new_date = start_date + relativedelta(years = n_years)\n",
    "r = relativedelta(new_date, now)\n",
    "month_left = (r.years*12) + r.months"
   ]
  },
  {
   "cell_type": "code",
   "execution_count": 85,
   "metadata": {},
   "outputs": [],
   "source": [
    "payment = 600\n",
    "counter = 1\n",
    "amount = loan_amount\n",
    "while amount > 0:\n",
    "    amount = amount + (amount * ((interest/12/100)))\n",
    "    amount = amount - payment\n",
    "    counter = counter +1\n",
    "total_money = counter * payment"
   ]
  },
  {
   "cell_type": "code",
   "execution_count": 86,
   "metadata": {},
   "outputs": [
    {
     "data": {
      "text/plain": [
       "264"
      ]
     },
     "execution_count": 86,
     "metadata": {},
     "output_type": "execute_result"
    }
   ],
   "source": [
    "counter"
   ]
  },
  {
   "cell_type": "code",
   "execution_count": 87,
   "metadata": {},
   "outputs": [
    {
     "data": {
      "text/plain": [
       "158400"
      ]
     },
     "execution_count": 87,
     "metadata": {},
     "output_type": "execute_result"
    }
   ],
   "source": [
    "total_money"
   ]
  },
  {
   "cell_type": "code",
   "execution_count": null,
   "metadata": {},
   "outputs": [],
   "source": []
  }
 ],
 "metadata": {
  "kernelspec": {
   "display_name": "Python 3",
   "language": "python",
   "name": "python3"
  },
  "language_info": {
   "codemirror_mode": {
    "name": "ipython",
    "version": 3
   },
   "file_extension": ".py",
   "mimetype": "text/x-python",
   "name": "python",
   "nbconvert_exporter": "python",
   "pygments_lexer": "ipython3",
   "version": "3.6.8"
  }
 },
 "nbformat": 4,
 "nbformat_minor": 2
}
