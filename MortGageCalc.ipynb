{
 "cells": [
  {
   "cell_type": "code",
   "execution_count": null,
   "metadata": {},
   "outputs": [],
   "source": [
    "import pandas as pd\n",
    "import numpy as np\n",
    "import datetime\n",
    "from dateutil.relativedelta import relativedelta"
   ]
  },
  {
   "cell_type": "code",
   "execution_count": null,
   "metadata": {},
   "outputs": [],
   "source": [
    "now = datetime.datetime.today()\n",
    "loan_amount   = int(input('Enter the amount'))\n",
    "interest = float(input('Enter the interest rate (%)'))\n",
    "n_years    = int(input('Enter the lenght'))\n",
    "start_date = input('Enter the start date (mm-dd-yy)')\n",
    "start_date = datetime.datetime.strptime(start_date, '%m-%d-%y') "
   ]
  },
  {
   "cell_type": "code",
   "execution_count": null,
   "metadata": {},
   "outputs": [],
   "source": [
    "new_date = start_date + relativedelta(years = n_years)\n",
    "r = relativedelta(new_date, now)\n",
    "month_left = (r.years*12) + r.months"
   ]
  },
  {
   "cell_type": "code",
   "execution_count": null,
   "metadata": {},
   "outputs": [],
   "source": [
    "payment = 600\n",
    "counter = 1\n",
    "amount = loan_amount\n",
    "while amount > 0:\n",
    "    amount = amount + (amount * ((interest/12/100)))\n",
    "    amount = amount - payment\n",
    "    counter = counter +1\n",
    "total_money = counter * payment"
   ]
  },
  {
   "cell_type": "code",
   "execution_count": null,
   "metadata": {},
   "outputs": [],
   "source": [
    "counter"
   ]
  },
  {
   "cell_type": "code",
   "execution_count": null,
   "metadata": {},
   "outputs": [],
   "source": [
    "total_money"
   ]
  },
  {
   "cell_type": "code",
   "execution_count": null,
   "metadata": {},
   "outputs": [],
   "source": [
    "import cv2 \n",
    "img = 'Data/car6.jpg'\n",
    "img = cv2.imread(img,2) # 0 is gray, 255 color\n",
    "cv2.imshow('imageofacar',img)\n",
    "cv2.waitKey()=='q'\n",
    "cv2.destroyAllWindows()"
   ]
  },
  {
   "cell_type": "code",
   "execution_count": null,
   "metadata": {},
   "outputs": [],
   "source": [
    "cv2.imshow(img, 255)\n",
    "ret = cv2.startWindowThread()\n",
    "print(ret) # if ret is 0, it means that this functionality is not supported by your OpenCV.\n",
    "cv2.destroyAllWindows()"
   ]
  },
  {
   "cell_type": "code",
   "execution_count": null,
   "metadata": {},
   "outputs": [],
   "source": [
    "cv2.namedWindow('imageWindow')\n",
    "img = cv2.imread(img)\n",
    "cv2.imshow(img, 255)\n",
    "wait = True\n",
    "while wait:\n",
    "  wait = cv2.waitKey()=='q' # hit q to exi"
   ]
  },
  {
   "cell_type": "markdown",
   "metadata": {},
   "source": [
    "# "
   ]
  }
 ],
 "metadata": {
  "kernelspec": {
   "display_name": "Python 3",
   "language": "python",
   "name": "python3"
  },
  "language_info": {
   "codemirror_mode": {
    "name": "ipython",
    "version": 3
   },
   "file_extension": ".py",
   "mimetype": "text/x-python",
   "name": "python",
   "nbconvert_exporter": "python",
   "pygments_lexer": "ipython3",
   "version": "3.6.8"
  }
 },
 "nbformat": 4,
 "nbformat_minor": 2
}
