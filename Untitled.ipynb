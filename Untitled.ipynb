{
 "cells": [
  {
   "cell_type": "code",
   "execution_count": 30,
   "metadata": {},
   "outputs": [
    {
     "name": "stdout",
     "output_type": "stream",
     "text": [
      "['/oilmarketreport/reports/2018/', '/oilmarketreport/reports/2017/', '/oilmarketreport/reports/2016/', '/oilmarketreport/reports/2015/', '/oilmarketreport/reports/2014/', '/oilmarketreport/reports/2013/', '/oilmarketreport/reports/2012/', '/oilmarketreport/reports/2011/', '/oilmarketreport/reports/2010/', '/oilmarketreport/reports/2009/', '/oilmarketreport/reports/2008/', '/oilmarketreport/reports/2007/', '/oilmarketreport/reports/archives/?year=2006', '/oilmarketreport/reports/archives/?year=2005', '/oilmarketreport/reports/archives/?year=2004', '/oilmarketreport/reports/archives/?year=2003', '/oilmarketreport/reports/archives/?year=2002', '/oilmarketreport/reports/archives/?year=2001', '/oilmarketreport/reports/archives/?year=2000', '/oilmarketreport/reports/archives/?year=1999', '/oilmarketreport/reports/archives/?year=1998', '/oilmarketreport/reports/archives/?year=1997', '/oilmarketreport/reports/archives/?year=1996', '/oilmarketreport/reports/archives/?year=1995', '/oilmarketreport/reports/archives/?year=1994', '/oilmarketreport/reports/archives/?year=1993', '/oilmarketreport/reports/archives/?year=1992', '/oilmarketreport/reports/archives/?year=1991', '/oilmarketreport/reports/archives/?year=1990']\n"
     ]
    }
   ],
   "source": [
    "from bs4 import BeautifulSoup\n",
    "import requests\n",
    "url = 'https://www.iea.org/oilmarketreport/reports/'\n",
    "page = requests.get(url)\n",
    "\n",
    "soup = BeautifulSoup(page.text, 'html.parser')\n",
    "#soup.prettify()\n",
    "#table = soup.find(\"table\")\n",
    "#print(table)\n",
    "links = []\n",
    "for href in soup.find_all(class_='omrlist'):\n",
    "    #print(href)\n",
    "    links.append(href.find('a').get('href'))\n",
    "print(links) "
   ]
  },
  {
   "cell_type": "code",
   "execution_count": 34,
   "metadata": {},
   "outputs": [
    {
     "data": {
      "text/plain": [
       "'/oilmarketreport/reports/2007/'"
      ]
     },
     "execution_count": 34,
     "metadata": {},
     "output_type": "execute_result"
    }
   ],
   "source": [
    "links[11]"
   ]
  },
  {
   "cell_type": "code",
   "execution_count": 29,
   "metadata": {},
   "outputs": [
    {
     "name": "stderr",
     "output_type": "stream",
     "text": [
      "/Users/jpinzon/anaconda3/lib/python3.6/site-packages/pandas/core/indexing.py:543: SettingWithCopyWarning: \n",
      "A value is trying to be set on a copy of a slice from a DataFrame.\n",
      "Try using .loc[row_indexer,col_indexer] = value instead\n",
      "\n",
      "See the caveats in the documentation: http://pandas.pydata.org/pandas-docs/stable/indexing.html#indexing-view-versus-copy\n",
      "  self.obj[item] = s\n"
     ]
    },
    {
     "name": "stdout",
     "output_type": "stream",
     "text": [
      "3.8 s ± 400 ms per loop (mean ± std. dev. of 7 runs, 1 loop each)\n"
     ]
    }
   ],
   "source": []
  },
  {
   "cell_type": "code",
   "execution_count": null,
   "metadata": {},
   "outputs": [],
   "source": []
  }
 ],
 "metadata": {
  "kernelspec": {
   "display_name": "Python 3",
   "language": "python",
   "name": "python3"
  },
  "language_info": {
   "codemirror_mode": {
    "name": "ipython",
    "version": 3
   },
   "file_extension": ".py",
   "mimetype": "text/x-python",
   "name": "python",
   "nbconvert_exporter": "python",
   "pygments_lexer": "ipython3",
   "version": "3.6.5"
  }
 },
 "nbformat": 4,
 "nbformat_minor": 2
}
