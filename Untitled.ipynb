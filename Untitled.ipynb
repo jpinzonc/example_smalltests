{
 "cells": [
  {
   "cell_type": "markdown",
   "metadata": {},
   "source": [
    "https://stackoverflow.com/questions/54061575/python-pandas-pivot-table-calculations"
   ]
  },
  {
   "cell_type": "code",
   "execution_count": 8,
   "metadata": {},
   "outputs": [
    {
     "name": "stdout",
     "output_type": "stream",
     "text": [
      "Year       2011      2012      2013      2014      2015      2016      2017\n",
      "Month                                                                      \n",
      "1      0.260625  0.282895  0.204973  0.159709  0.168079  0.425450  0.771375\n",
      "2      0.262925  0.250024  0.201300  0.155105  0.172075  0.431298  0.776708\n",
      "3      0.253285  0.241852  0.203450  0.154883  0.175600  0.436395  0.928635\n",
      "4      0.221435  0.239829  0.199533  0.151700  0.180768  0.437398  0.990686\n",
      "5      0.197800  0.238932  0.196710  0.150357  0.184229  0.442495  1.011426\n",
      "6      0.187164  0.243197  0.193193  0.152374  0.185884  0.452709  1.171407\n",
      "7      0.186619  0.246461  0.191119  0.154387  0.188159  0.482883  1.228037\n",
      "8      0.211166  0.237839  0.184070  0.156020  0.196727  0.512242  1.231769\n",
      "9      0.230850  0.221338  0.180575  0.154105  0.201077  0.527002  1.234920\n",
      "10     0.243739  0.213465  0.172415  0.153517  0.194511  0.530780  1.238549\n",
      "11     0.253646  0.208886  0.167271  0.154807  0.208448  0.563109  1.287879\n",
      "12     0.283608  0.210926  0.167230  0.163050  0.352307  0.711959  1.485041\n"
     ]
    }
   ],
   "source": [
    "import pandas as pd \n",
    "import pandas_datareader.data as web\n",
    "import datetime\n",
    "\n",
    "start = datetime.datetime(2011, 1, 1)\n",
    "end = datetime.datetime(2017, 12, 31)\n",
    "\n",
    "libor = web.DataReader('USD1MTD156N', 'fred', start, end) # Reading the data\n",
    "libor = libor.dropna(axis=0, how= 'any') # Dropping the NAN values\n",
    "libor = libor.resample('M').mean() # Calculating the mean value per date\n",
    "libor['Month'] = pd.DatetimeIndex(libor.index).month # Adding month value after each \n",
    "libor['Year'] = pd.DatetimeIndex(libor.index).year # Adding month value after each \n",
    "\n",
    "pivot = libor.pivot(index='Month',columns='Year',values='USD1MTD156N')\n",
    "print (pivot)"
   ]
  },
  {
   "cell_type": "code",
   "execution_count": 16,
   "metadata": {},
   "outputs": [
    {
     "name": "stdout",
     "output_type": "stream",
     "text": [
      "Month\n",
      "1     0.324729\n",
      "2     0.321348\n",
      "3     0.342014\n",
      "4     0.345907\n",
      "5     0.345993\n",
      "6     0.369418\n",
      "7     0.382524\n",
      "8     0.389976\n",
      "9     0.392838\n",
      "10    0.392425\n",
      "11    0.406292\n",
      "12    0.482017\n",
      "dtype: float64 \n",
      " Year\n",
      "2011     2.792864\n",
      "2012     2.835645\n",
      "2013     2.261839\n",
      "2014     1.860015\n",
      "2015     2.407864\n",
      "2016     5.953718\n",
      "2017    13.356432\n",
      "dtype: float64 \n",
      " Year\n",
      "2011    0.621260\n",
      "2012    0.630777\n",
      "2013    0.503136\n",
      "2014    0.413752\n",
      "2015    0.535619\n",
      "2016    1.324378\n",
      "2017    2.971079\n",
      "dtype: float64\n"
     ]
    }
   ],
   "source": [
    "# Mean of each row\n",
    "ave_month = pivot.mean(1)\n",
    "#sum of each year at the bottom of the pivot table.\n",
    "sum_year = pivot.sum(0)\n",
    "# average distribution per year.\n",
    "ave_year = sum_year/sum_year.mean()\n",
    "print(ave_month, '\\n', sum_year, '\\n', ave_year)"
   ]
  },
  {
   "cell_type": "code",
   "execution_count": 14,
   "metadata": {},
   "outputs": [],
   "source": []
  },
  {
   "cell_type": "raw",
   "metadata": {},
   "source": []
  }
 ],
 "metadata": {
  "kernelspec": {
   "display_name": "Python 3",
   "language": "python",
   "name": "python3"
  },
  "language_info": {
   "codemirror_mode": {
    "name": "ipython",
    "version": 3
   },
   "file_extension": ".py",
   "mimetype": "text/x-python",
   "name": "python",
   "nbconvert_exporter": "python",
   "pygments_lexer": "ipython3",
   "version": "3.6.8"
  }
 },
 "nbformat": 4,
 "nbformat_minor": 2
}
