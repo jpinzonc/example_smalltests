{
 "cells": [
  {
   "cell_type": "markdown",
   "metadata": {},
   "source": [
    "https://stackoverflow.com/questions/54051495/cross-operations-between-two-datafarames"
   ]
  },
  {
   "cell_type": "code",
   "execution_count": 3,
   "metadata": {},
   "outputs": [],
   "source": [
    "import numpy as np\n",
    "import pandas as pd\n",
    "df1 = pd.DataFrame(10*(2+np.random.randn(500, 3)), columns=list('ABC'))\n",
    "df2 = pd.DataFrame(10*(2+np.random.randn(500, 3)), columns=list('CDA'))\n",
    "df1.drop(df1.index[[1, 4, 284, 354, 498]], inplace=True)\n",
    "df2.drop(df2.index[[0, 98, 159]], inplace=True)\n",
    "df1.loc[2, 'B'] = np.nan\n",
    "df1.loc[5, 'C'] = np.nan\n",
    "df1.loc[3, 'A'] = np.nan\n",
    "df2.loc[5, 'C'] = np.nan\n",
    "df2.loc[1, 'D'] = np.nan\n",
    "df2.loc[2, 'A'] = np.nan"
   ]
  },
  {
   "cell_type": "code",
   "execution_count": null,
   "metadata": {},
   "outputs": [],
   "source": [
    "df1.head()"
   ]
  },
  {
   "cell_type": "code",
   "execution_count": null,
   "metadata": {},
   "outputs": [],
   "source": [
    "df2.head()"
   ]
  },
  {
   "cell_type": "code",
   "execution_count": 4,
   "metadata": {},
   "outputs": [
    {
     "name": "stdout",
     "output_type": "stream",
     "text": [
      "simple_ret_df.head(6) \n",
      "\n",
      "           A          B         C          D\n",
      "0       NaN  25.050572       NaN        NaN\n",
      "1       NaN        NaN       NaN        NaN\n",
      "2       NaN        NaN -0.281022  16.132097\n",
      "3       NaN  13.892110 -1.093082  10.501839\n",
      "4       NaN        NaN       NaN  16.469587\n",
      "5 -0.460311  26.418978       NaN  22.351900 \n",
      "\n",
      " log_ret_df.head(6) \n",
      "           A          B         C          D\n",
      "0       NaN  25.050572       NaN        NaN\n",
      "1       NaN        NaN       NaN        NaN\n",
      "2       NaN        NaN -1.164827  16.132097\n",
      "3       NaN  13.892110  0.149095  10.501839\n",
      "4       NaN        NaN       NaN  16.469587\n",
      "5 -0.712804  26.418978       NaN  22.351900\n"
     ]
    },
    {
     "name": "stderr",
     "output_type": "stream",
     "text": [
      "/Users/jpinzon/anaconda3/lib/python3.6/site-packages/ipykernel_launcher.py:22: RuntimeWarning: invalid value encountered in log\n"
     ]
    }
   ],
   "source": [
    "# Merge the dataframes\n",
    "merged_df = df1.merge(df2, right_index = True, left_index = True, how = 'outer')\n",
    "# Create dataframes for each formula\n",
    "simple_ret_df = pd.DataFrame(index = merged_df.index) # for (1 - df1 / df2)\n",
    "log_ret_df    = pd.DataFrame(index = merged_df.index) # for ln(df1 / df2)\n",
    "for column in merged_df.columns:\n",
    "    # Get initial letter from the column names\n",
    "    i = column[0]\n",
    "    # filter only the columns that start with the same letter\n",
    "    df_test = merged_df[merged_df.columns[merged_df.columns.str.startswith(i)]]\n",
    "    #If only one column, add that to the dataframes\n",
    "    if df_test.shape[1] == 1:\n",
    "        simple_ret_df = simple_ret_df.merge(df_test, right_index = True, left_index = True, how = 'outer')\n",
    "        \n",
    "        log_ret_df = log_ret_df.merge(df_test, right_index = True, left_index = True, how = 'outer')\n",
    "    #If two columns do the calculations\n",
    "    else:\n",
    "        simple_ret_df.loc[:,i] = np.where((df_test[df_test.columns[0]].isin([np.nan, 0]))|(df_test[df_test.columns[1]].isin([np.nan, 0])), \n",
    "        np.nan,  (1- df_test[df_test.columns[0]]) / df_test[df_test.columns[1]])\n",
    "        \n",
    "        log_ret_df.loc[:,i] = np.where((df_test[df_test.columns[0]].isin([np.nan, 0]))|(df_test[df_test.columns[1]].isin([np.nan, 0])), \n",
    "        np.nan,  np.log(df_test[df_test.columns[0]] / df_test[df_test.columns[1]]))\n",
    "\n",
    "#Adjust the names of the columns\n",
    "simple_ret_df.columns = simple_ret_df.columns.str[0]\n",
    "log_ret_df.columns    = log_ret_df.columns.str[0]\n",
    "\n",
    "print('simple_ret_df.head(6)', '\\n\\n',simple_ret_df.head(6), '\\n\\n', 'log_ret_df.head(6)', '\\n', log_ret_df.head(6))"
   ]
  },
  {
   "cell_type": "code",
   "execution_count": null,
   "metadata": {},
   "outputs": [],
   "source": []
  },
  {
   "cell_type": "code",
   "execution_count": null,
   "metadata": {},
   "outputs": [],
   "source": []
  }
 ],
 "metadata": {
  "kernelspec": {
   "display_name": "Python 3",
   "language": "python",
   "name": "python3"
  },
  "language_info": {
   "codemirror_mode": {
    "name": "ipython",
    "version": 3
   },
   "file_extension": ".py",
   "mimetype": "text/x-python",
   "name": "python",
   "nbconvert_exporter": "python",
   "pygments_lexer": "ipython3",
   "version": "3.6.8"
  }
 },
 "nbformat": 4,
 "nbformat_minor": 2
}
