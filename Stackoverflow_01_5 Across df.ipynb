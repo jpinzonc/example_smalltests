{
 "cells": [
  {
   "cell_type": "markdown",
   "metadata": {},
   "source": [
    "https://stackoverflow.com/questions/54051495/cross-operations-between-two-datafarames"
   ]
  },
  {
   "cell_type": "code",
   "execution_count": 1,
   "metadata": {},
   "outputs": [],
   "source": [
    "import numpy as np\n",
    "import pandas as pd\n",
    "df1 = pd.DataFrame(10*(2+np.random.randn(500, 3)), columns=list('ABC'))\n",
    "df2 = pd.DataFrame(10*(2+np.random.randn(500, 3)), columns=list('CDA'))\n",
    "df1.drop(df1.index[[1, 4, 284, 354, 498]], inplace=True)\n",
    "df2.drop(df2.index[[0, 98, 159]], inplace=True)\n",
    "df1.loc[2, 'B'] = np.nan\n",
    "df1.loc[5, 'C'] = np.nan\n",
    "df1.loc[3, 'A'] = np.nan\n",
    "df2.loc[5, 'C'] = np.nan\n",
    "df2.loc[1, 'D'] = np.nan\n",
    "df2.loc[2, 'A'] = np.nan"
   ]
  },
  {
   "cell_type": "code",
   "execution_count": 2,
   "metadata": {},
   "outputs": [
    {
     "data": {
      "text/html": [
       "<div>\n",
       "<style scoped>\n",
       "    .dataframe tbody tr th:only-of-type {\n",
       "        vertical-align: middle;\n",
       "    }\n",
       "\n",
       "    .dataframe tbody tr th {\n",
       "        vertical-align: top;\n",
       "    }\n",
       "\n",
       "    .dataframe thead th {\n",
       "        text-align: right;\n",
       "    }\n",
       "</style>\n",
       "<table border=\"1\" class=\"dataframe\">\n",
       "  <thead>\n",
       "    <tr style=\"text-align: right;\">\n",
       "      <th></th>\n",
       "      <th>A</th>\n",
       "      <th>B</th>\n",
       "      <th>C</th>\n",
       "    </tr>\n",
       "  </thead>\n",
       "  <tbody>\n",
       "    <tr>\n",
       "      <th>0</th>\n",
       "      <td>15.602446</td>\n",
       "      <td>19.178394</td>\n",
       "      <td>27.607407</td>\n",
       "    </tr>\n",
       "    <tr>\n",
       "      <th>2</th>\n",
       "      <td>3.001727</td>\n",
       "      <td>NaN</td>\n",
       "      <td>9.631051</td>\n",
       "    </tr>\n",
       "    <tr>\n",
       "      <th>3</th>\n",
       "      <td>NaN</td>\n",
       "      <td>37.007856</td>\n",
       "      <td>29.455232</td>\n",
       "    </tr>\n",
       "    <tr>\n",
       "      <th>5</th>\n",
       "      <td>32.527920</td>\n",
       "      <td>23.262784</td>\n",
       "      <td>NaN</td>\n",
       "    </tr>\n",
       "    <tr>\n",
       "      <th>6</th>\n",
       "      <td>11.421429</td>\n",
       "      <td>6.741664</td>\n",
       "      <td>8.416928</td>\n",
       "    </tr>\n",
       "  </tbody>\n",
       "</table>\n",
       "</div>"
      ],
      "text/plain": [
       "           A          B          C\n",
       "0  15.602446  19.178394  27.607407\n",
       "2   3.001727        NaN   9.631051\n",
       "3        NaN  37.007856  29.455232\n",
       "5  32.527920  23.262784        NaN\n",
       "6  11.421429   6.741664   8.416928"
      ]
     },
     "execution_count": 2,
     "metadata": {},
     "output_type": "execute_result"
    }
   ],
   "source": [
    "df1.head()"
   ]
  },
  {
   "cell_type": "code",
   "execution_count": 3,
   "metadata": {},
   "outputs": [
    {
     "data": {
      "text/html": [
       "<div>\n",
       "<style scoped>\n",
       "    .dataframe tbody tr th:only-of-type {\n",
       "        vertical-align: middle;\n",
       "    }\n",
       "\n",
       "    .dataframe tbody tr th {\n",
       "        vertical-align: top;\n",
       "    }\n",
       "\n",
       "    .dataframe thead th {\n",
       "        text-align: right;\n",
       "    }\n",
       "</style>\n",
       "<table border=\"1\" class=\"dataframe\">\n",
       "  <thead>\n",
       "    <tr style=\"text-align: right;\">\n",
       "      <th></th>\n",
       "      <th>C</th>\n",
       "      <th>D</th>\n",
       "      <th>A</th>\n",
       "    </tr>\n",
       "  </thead>\n",
       "  <tbody>\n",
       "    <tr>\n",
       "      <th>1</th>\n",
       "      <td>16.824500</td>\n",
       "      <td>NaN</td>\n",
       "      <td>16.690351</td>\n",
       "    </tr>\n",
       "    <tr>\n",
       "      <th>2</th>\n",
       "      <td>13.410754</td>\n",
       "      <td>8.207212</td>\n",
       "      <td>NaN</td>\n",
       "    </tr>\n",
       "    <tr>\n",
       "      <th>3</th>\n",
       "      <td>15.554838</td>\n",
       "      <td>20.286988</td>\n",
       "      <td>17.755099</td>\n",
       "    </tr>\n",
       "    <tr>\n",
       "      <th>4</th>\n",
       "      <td>21.082750</td>\n",
       "      <td>6.288334</td>\n",
       "      <td>25.721329</td>\n",
       "    </tr>\n",
       "    <tr>\n",
       "      <th>5</th>\n",
       "      <td>NaN</td>\n",
       "      <td>6.698807</td>\n",
       "      <td>23.243012</td>\n",
       "    </tr>\n",
       "  </tbody>\n",
       "</table>\n",
       "</div>"
      ],
      "text/plain": [
       "           C          D          A\n",
       "1  16.824500        NaN  16.690351\n",
       "2  13.410754   8.207212        NaN\n",
       "3  15.554838  20.286988  17.755099\n",
       "4  21.082750   6.288334  25.721329\n",
       "5        NaN   6.698807  23.243012"
      ]
     },
     "execution_count": 3,
     "metadata": {},
     "output_type": "execute_result"
    }
   ],
   "source": [
    "df2.head()"
   ]
  },
  {
   "cell_type": "raw",
   "metadata": {},
   "source": [
    "df1_ = df1.copy()\n",
    "df2_ = df2.copy()\n",
    "df1_.columns = [col+'_df1' for col in df1_.columns]\n",
    "df2_.columns = [col+'_df2' for col in df2_.columns]"
   ]
  },
  {
   "cell_type": "code",
   "execution_count": 9,
   "metadata": {},
   "outputs": [
    {
     "name": "stdout",
     "output_type": "stream",
     "text": [
      "          A          B           C          D\n",
      "0       NaN  19.178394         NaN        NaN\n",
      "1       NaN        NaN         NaN        NaN\n",
      "2       NaN        NaN   -0.643592   8.207212\n",
      "3       NaN  37.007856   -1.829349  20.286988\n",
      "4       NaN        NaN         NaN   6.288334\n",
      "5 -1.356447  23.262784         NaN   6.698807\n",
      "6 -0.701263   6.741664   -0.760309  21.690298\n",
      "7 -1.192199   3.865241 -484.002349   9.450603\n",
      "8 -0.765613  -4.302222   -0.223494  32.779025\n",
      "9 -1.047573  33.219524   -8.041854  12.642497 \n",
      "           A          B         C          D\n",
      "0       NaN  19.178394       NaN        NaN\n",
      "1       NaN        NaN       NaN        NaN\n",
      "2       NaN        NaN -0.331065   8.207212\n",
      "3       NaN  37.007856  0.638500  20.286988\n",
      "4       NaN        NaN       NaN   6.288334\n",
      "5  0.336094  23.262784       NaN   6.698807\n",
      "6 -0.263246   6.741664 -0.147551  21.690298\n",
      "7  0.211454   3.865241  6.217334   9.450603\n",
      "8 -0.218390  -4.302222 -1.356639  32.779025\n",
      "9  0.076703  33.219524  2.120790  12.642497\n"
     ]
    },
    {
     "name": "stderr",
     "output_type": "stream",
     "text": [
      "/Users/jpinzon/anaconda3/lib/python3.6/site-packages/ipykernel_launcher.py:20: RuntimeWarning: invalid value encountered in log\n"
     ]
    }
   ],
   "source": [
    "# Merge the dataframes\n",
    "merged_df = df1.merge(df2, right_index = True, left_index = True, how = 'outer')\n",
    "# Create dataframes for each formula\n",
    "final_df1 = pd.DataFrame(index = merged_df.index) # for this (1 - df1 / df2)\n",
    "final_df2 = pd.DataFrame(index = merged_df.index) # for this ln(df1 / df2)\n",
    "for column in merged_df.columns:\n",
    "    # Get initial letter from the column names\n",
    "    i = column[0]\n",
    "    # filter only the columns that start with the same letter\n",
    "    df_test = merged_df[merged_df.columns[merged_df.columns.str.startswith(i)]]\n",
    "    #If only one column, add that to the dataframes\n",
    "    if df_test.shape[1] == 1:\n",
    "        final_df1 = final_df1.merge(df_test, right_index = True, left_index = True, how = 'outer')\n",
    "        final_df2 = final_df2.merge(df_test, right_index = True, left_index = True, how = 'outer')\n",
    "    #If two columns do the calculations\n",
    "    else:\n",
    "        final_df1.loc[:,i] = np.where((df_test[df_test.columns[0]].isnull())|(df_test[df_test.columns[1]].isnull()), \n",
    "        np.nan,  (1- df_test[df_test.columns[0]]) / df_test[df_test.columns[1]])\n",
    "        final_df2.loc[:,i] = np.where((df_test[df_test.columns[0]].isnull())|(df_test[df_test.columns[1]].isnull()), \n",
    "        np.nan,  np.log(df_test[df_test.columns[0]] / df_test[df_test.columns[1]]))\n",
    "\n",
    "#Adjust the names of the columns\n",
    "final_df1.columns = final_df1.columns.str[0]\n",
    "final_df2.columns = final_df2.columns.str[0]\n",
    "\n",
    "print(final_df1.head(10), '\\n', final_df2.head(10))"
   ]
  },
  {
   "cell_type": "code",
   "execution_count": null,
   "metadata": {},
   "outputs": [],
   "source": []
  }
 ],
 "metadata": {
  "kernelspec": {
   "display_name": "Python 3",
   "language": "python",
   "name": "python3"
  },
  "language_info": {
   "codemirror_mode": {
    "name": "ipython",
    "version": 3
   },
   "file_extension": ".py",
   "mimetype": "text/x-python",
   "name": "python",
   "nbconvert_exporter": "python",
   "pygments_lexer": "ipython3",
   "version": "3.6.8"
  }
 },
 "nbformat": 4,
 "nbformat_minor": 2
}
