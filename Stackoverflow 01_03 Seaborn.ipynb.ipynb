{
 "cells": [
  {
   "cell_type": "markdown",
   "metadata": {},
   "source": [
    "https://stackoverflow.com/questions/54030855/attributeerror-str-object-has-no-attribute-view-in-seaborn-scatterplot"
   ]
  },
  {
   "cell_type": "code",
   "execution_count": 1,
   "metadata": {},
   "outputs": [],
   "source": [
    "import pandas as pd\n",
    "import numpy as np\n",
    "import seaborn as sns\n",
    "import seaborn"
   ]
  },
  {
   "cell_type": "code",
   "execution_count": 2,
   "metadata": {},
   "outputs": [],
   "source": [
    "dict = {\"X\":{\"0\":0.12765045,\"1\":0.0244816152,\"2\":0.1263715245,\"3\":0.0246376768,\"4\":0.1108581319,\"5\":0.1406719382,\"6\":0.1358105564,\"7\":0.1245863432,\"8\":0.1175445352,\"9\":0.1188479018,\"10\":0.1113148159,\"11\":0.117455495,\"12\":0.110555662,\"13\":0.1328567106,\"14\":0.103064284,\"15\":0.1119474442,\"16\":0.119390455,\"17\":0.1246727756,\"18\":0.1117827155,\"19\":0.1169972547},\"Y\":{\"0\":0.1241083714,\"1\":0.1394242378,\"2\":0.1225010796,\"3\":0.0077080173,\"4\":0.1198371354,\"5\":0.0029026989,\"6\":0.1259473297,\"7\":0.0,\"8\":0.0,\"9\":0.1214620231,\"10\":0.1204110739,\"11\":0.0,\"12\":0.1194570059,\"13\":0.0014971676,\"14\":0.1184584731,\"15\":0.1212061305,\"16\":0.1221438778,\"17\":0.0,\"18\":0.1209991075,\"19\":0.0},\"Label\":{\"0\":\"17\",\"1\":\"3\",\"2\":\"17\",\"3\":\"0\",\"4\":\"14\",\"5\":\"21\",\"6\":\"16\",\"7\":\"23\",\"8\":\"20\",\"9\":\"15\",\"10\":\"14\",\"11\":\"20\",\"12\":\"14\",\"13\":\"22\",\"14\":\"13\",\"15\":\"14\",\"16\":\"15\",\"17\":\"23\",\"18\":\"14\",\"19\":\"20\"},\"Probability\":{\"0\":1.0,\"1\":1.0,\"2\":1.0,\"3\":1.0,\"4\":1.0,\"5\":1.0,\"6\":1.0,\"7\":1.0,\"8\":1.0,\"9\":1.0,\"10\":1.0,\"11\":1.0,\"12\":1.0,\"13\":1.0,\"14\":1.0,\"15\":1.0,\"16\":1.0,\"17\":1.0,\"18\":0.9101796407,\"19\":1.0}}\n",
    "toy_data = pd.DataFrame(dict)"
   ]
  },
  {
   "cell_type": "code",
   "execution_count": 3,
   "metadata": {},
   "outputs": [],
   "source": [
    "toy_data = pd.DataFrame(dict)"
   ]
  },
  {
   "cell_type": "code",
   "execution_count": 4,
   "metadata": {},
   "outputs": [
    {
     "name": "stdout",
     "output_type": "stream",
     "text": [
      "<class 'pandas.core.frame.DataFrame'>\n",
      "Index: 20 entries, 0 to 9\n",
      "Data columns (total 4 columns):\n",
      "X              20 non-null float64\n",
      "Y              20 non-null float64\n",
      "Label          20 non-null object\n",
      "Probability    20 non-null float64\n",
      "dtypes: float64(3), object(1)\n",
      "memory usage: 800.0+ bytes\n"
     ]
    }
   ],
   "source": [
    "toy_data.info()"
   ]
  },
  {
   "cell_type": "code",
   "execution_count": 5,
   "metadata": {},
   "outputs": [],
   "source": [
    "toy_data.loc[:,'label'] = toy_data.Label.astype(np.float)"
   ]
  },
  {
   "cell_type": "code",
   "execution_count": 6,
   "metadata": {},
   "outputs": [
    {
     "name": "stdout",
     "output_type": "stream",
     "text": [
      "<class 'pandas.core.frame.DataFrame'>\n",
      "Index: 20 entries, 0 to 9\n",
      "Data columns (total 5 columns):\n",
      "X              20 non-null float64\n",
      "Y              20 non-null float64\n",
      "Label          20 non-null object\n",
      "Probability    20 non-null float64\n",
      "label          20 non-null float64\n",
      "dtypes: float64(4), object(1)\n",
      "memory usage: 960.0+ bytes\n"
     ]
    }
   ],
   "source": [
    "toy_data.info()"
   ]
  },
  {
   "cell_type": "code",
   "execution_count": 7,
   "metadata": {},
   "outputs": [
    {
     "data": {
      "text/plain": [
       "<matplotlib.axes._subplots.AxesSubplot at 0x1a1f923dd8>"
      ]
     },
     "execution_count": 7,
     "metadata": {},
     "output_type": "execute_result"
    },
    {
     "data": {
      "image/png": "[encoded data removed]",
      "text/plain": [
       "<Figure size 432x288 with 1 Axes>"
      ]
     },
     "metadata": {},
     "output_type": "display_data"
    }
   ],
   "source": [
    "sns.scatterplot(x = toy_data.X, y = toy_data.Y, hue = toy_data.label.values, alpha = 0.5)"
   ]
  }
 ],
 "metadata": {
  "kernelspec": {
   "display_name": "Python 3",
   "language": "python",
   "name": "python3"
  },
  "language_info": {
   "codemirror_mode": {
    "name": "ipython",
    "version": 3
   },
   "file_extension": ".py",
   "mimetype": "text/x-python",
   "name": "python",
   "nbconvert_exporter": "python",
   "pygments_lexer": "ipython3",
   "version": "3.6.8"
  }
 },
 "nbformat": 4,
 "nbformat_minor": 2
}
