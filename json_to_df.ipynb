{
  "nbformat": 4,
  "nbformat_minor": 0,
  "metadata": {
    "colab": {
      "name": "json_to_df.ipynb",
      "version": "0.3.2",
      "provenance": [],
      "include_colab_link": true
    },
    "kernelspec": {
      "name": "python3",
      "display_name": "Python 3"
    }
  },
  "cells": [
    {
      "cell_type": "markdown",
      "metadata": {
        "id": "view-in-github",
        "colab_type": "text"
      },
      "source": [
        "<a href=\"https://colab.research.google.com/github/jpinzonc/example_smalltests/blob/master/json_to_df.ipynb\" target=\"_parent\"><img src=\"https://colab.research.google.com/assets/colab-badge.svg\" alt=\"Open In Colab\"/></a>"
      ]
    },
    {
      "metadata": {
        "id": "UN-nokG9Sgxi",
        "colab_type": "code",
        "colab": {}
      },
      "cell_type": "code",
      "source": [
        "\n",
        "import pandas as pd\n",
        "\n",
        "from pandas.io.json import json_normalize\n"
      ],
      "execution_count": 0,
      "outputs": []
    },
    {
      "metadata": {
        "id": "XkOcmLcuSvmg",
        "colab_type": "code",
        "colab": {
          "base_uri": "https://localhost:8080/",
          "height": 51
        },
        "outputId": "e768e1b7-aaf7-46f3-dd90-f7b2c9a5564b"
      },
      "cell_type": "code",
      "source": [
        "datam = {\n",
        "    'name': {\n",
        "      'first': 'vikash',\n",
        "      'last': 'singh',\n",
        "        'features': {'one':'one'}\n",
        "    },\n",
        "    'age': 27\n",
        "  }\n",
        "datan = {\n",
        "    'name': {\n",
        "      'first': 'satyam',\n",
        "      'last': 'singh'\n",
        "    },\n",
        "    'age': 14\n",
        "  }\n",
        "datam"
      ],
      "execution_count": 45,
      "outputs": [
        {
          "output_type": "execute_result",
          "data": {
            "text/plain": [
              "{'age': 27,\n",
              " 'name': {'features': {'one': 'one'}, 'first': 'vikash', 'last': 'singh'}}"
            ]
          },
          "metadata": {
            "tags": []
          },
          "execution_count": 45
        }
      ]
    },
    {
      "metadata": {
        "id": "NkW-KJ9wSw4v",
        "colab_type": "code",
        "colab": {}
      },
      "cell_type": "code",
      "source": [
        "json_Example ={\n",
        "    \"glossary\": {\n",
        "        \"title\": \"example glossary\",\n",
        "\t\t\"GlossDiv\": {\n",
        "            \"title\": \"S\",\n",
        "\t\t\t\"GlossList\": {\n",
        "                \"GlossEntry\": {\n",
        "                    \"ID\": \"SGML\",\n",
        "\t\t\t\t\t\"SortAs\": \"SGML\",\n",
        "\t\t\t\t\t\"GlossTerm\": \"Standard Generalized Markup Language\",\n",
        "\t\t\t\t\t\"Acronym\": \"SGML\",\n",
        "\t\t\t\t\t\"Abbrev\": \"ISO 8879:1986\",\n",
        "\t\t\t\t\t\"GlossDef\": {\n",
        "                        \"para\": \"A meta-markup language, used to create markup languages such as DocBook.\",\n",
        "\t\t\t\t\t\t\"GlossSeeAlso\": [\"GML\", \"XML\"],\n",
        "              'GlossNEW':{'something':'good'}\n",
        "                    },\n",
        "\t\t\t\t\t\"GlossSee\": \"markup\"\n",
        "                }\n",
        "            }\n",
        "        }\n",
        "    }\n",
        "}\n",
        "\n",
        "json_Example2 ={\n",
        "    \"glossary\": {\n",
        "        \"title\": \"example glossary\",\n",
        "        'name':'Jaime',\n",
        "\t\t\"GlossDiv\": {\n",
        "            \"title\": \"S\",\n",
        "\t\t\t\"GlossList\": {\n",
        "                \"GlossEntry\": {\n",
        "                    \"ID\": \"SGML\",\n",
        "\t\t\t\t\t\"SortAs\": \"SGML\",\n",
        "\t\t\t\t\t\"GlossTerm\": \"Standard Generalized Markup Language\",\n",
        "\t\t\t\t\t\"Acronym\": \"SGML\",\n",
        "\t\t\t\t\t\"Abbrev\": \"ISO 8879:1986\",\n",
        "\t\t\t\t\t\"GlossDef\": {\n",
        "                        \"para\": \"A meta-markup language, used to create markup languages such as DocBook.\",\n",
        "\t\t\t\t\t\t\"GlossSeeAlso\": [\"GML\", \"XML\"]\n",
        "              \n",
        "                    },\n",
        "\t\t\t\t\t\"GlossSee\": \"markup\"\n",
        "                }\n",
        "            }\n",
        "        }\n",
        "    }\n",
        "}\n",
        "\n"
      ],
      "execution_count": 0,
      "outputs": []
    },
    {
      "metadata": {
        "id": "fpgy5lMdT8vm",
        "colab_type": "code",
        "colab": {}
      },
      "cell_type": "code",
      "source": [
        "dict1 = {}\n",
        "dict1['test']= json_Example\n",
        "dict1['test2'] = json_Example2\n",
        "dict1['data1'] = datam\n",
        "dict1['data2'] = datan"
      ],
      "execution_count": 0,
      "outputs": []
    },
    {
      "metadata": {
        "id": "Ee4KFF_cUlay",
        "colab_type": "code",
        "colab": {
          "base_uri": "https://localhost:8080/",
          "height": 193
        },
        "outputId": "fa0105bb-3465-43f1-8586-2f710fd53bba"
      },
      "cell_type": "code",
      "source": [
        "df4 = pd.DataFrame()\n",
        "for key in dict1.keys():\n",
        "  df3 = pd.DataFrame.from_dict(json_normalize(dict1[key]), orient='columns')\n",
        "  df3.loc[:,'key'] = key\n",
        "  df4 = pd.concat([df4,df3], 0)\n",
        "df4\n"
      ],
      "execution_count": 51,
      "outputs": [
        {
          "output_type": "execute_result",
          "data": {
            "text/html": [
              "<div>\n",
              "<style scoped>\n",
              "    .dataframe tbody tr th:only-of-type {\n",
              "        vertical-align: middle;\n",
              "    }\n",
              "\n",
              "    .dataframe tbody tr th {\n",
              "        vertical-align: top;\n",
              "    }\n",
              "\n",
              "    .dataframe thead th {\n",
              "        text-align: right;\n",
              "    }\n",
              "</style>\n",
              "<table border=\"1\" class=\"dataframe\">\n",
              "  <thead>\n",
              "    <tr style=\"text-align: right;\">\n",
              "      <th></th>\n",
              "      <th>age</th>\n",
              "      <th>glossary.GlossDiv.GlossList.GlossEntry.Abbrev</th>\n",
              "      <th>glossary.GlossDiv.GlossList.GlossEntry.Acronym</th>\n",
              "      <th>glossary.GlossDiv.GlossList.GlossEntry.GlossDef.GlossNEW.something</th>\n",
              "      <th>glossary.GlossDiv.GlossList.GlossEntry.GlossDef.GlossSeeAlso</th>\n",
              "      <th>glossary.GlossDiv.GlossList.GlossEntry.GlossDef.para</th>\n",
              "      <th>glossary.GlossDiv.GlossList.GlossEntry.GlossSee</th>\n",
              "      <th>glossary.GlossDiv.GlossList.GlossEntry.GlossTerm</th>\n",
              "      <th>glossary.GlossDiv.GlossList.GlossEntry.ID</th>\n",
              "      <th>glossary.GlossDiv.GlossList.GlossEntry.SortAs</th>\n",
              "      <th>glossary.GlossDiv.title</th>\n",
              "      <th>glossary.name</th>\n",
              "      <th>glossary.title</th>\n",
              "      <th>key</th>\n",
              "      <th>name.features.one</th>\n",
              "      <th>name.first</th>\n",
              "      <th>name.last</th>\n",
              "    </tr>\n",
              "  </thead>\n",
              "  <tbody>\n",
              "    <tr>\n",
              "      <th>0</th>\n",
              "      <td>NaN</td>\n",
              "      <td>ISO 8879:1986</td>\n",
              "      <td>SGML</td>\n",
              "      <td>good</td>\n",
              "      <td>[GML, XML]</td>\n",
              "      <td>A meta-markup language, used to create markup ...</td>\n",
              "      <td>markup</td>\n",
              "      <td>Standard Generalized Markup Language</td>\n",
              "      <td>SGML</td>\n",
              "      <td>SGML</td>\n",
              "      <td>S</td>\n",
              "      <td>NaN</td>\n",
              "      <td>example glossary</td>\n",
              "      <td>test</td>\n",
              "      <td>NaN</td>\n",
              "      <td>NaN</td>\n",
              "      <td>NaN</td>\n",
              "    </tr>\n",
              "    <tr>\n",
              "      <th>0</th>\n",
              "      <td>NaN</td>\n",
              "      <td>ISO 8879:1986</td>\n",
              "      <td>SGML</td>\n",
              "      <td>NaN</td>\n",
              "      <td>[GML, XML]</td>\n",
              "      <td>A meta-markup language, used to create markup ...</td>\n",
              "      <td>markup</td>\n",
              "      <td>Standard Generalized Markup Language</td>\n",
              "      <td>SGML</td>\n",
              "      <td>SGML</td>\n",
              "      <td>S</td>\n",
              "      <td>Jaime</td>\n",
              "      <td>example glossary</td>\n",
              "      <td>test2</td>\n",
              "      <td>NaN</td>\n",
              "      <td>NaN</td>\n",
              "      <td>NaN</td>\n",
              "    </tr>\n",
              "    <tr>\n",
              "      <th>0</th>\n",
              "      <td>27.0</td>\n",
              "      <td>NaN</td>\n",
              "      <td>NaN</td>\n",
              "      <td>NaN</td>\n",
              "      <td>NaN</td>\n",
              "      <td>NaN</td>\n",
              "      <td>NaN</td>\n",
              "      <td>NaN</td>\n",
              "      <td>NaN</td>\n",
              "      <td>NaN</td>\n",
              "      <td>NaN</td>\n",
              "      <td>NaN</td>\n",
              "      <td>NaN</td>\n",
              "      <td>data1</td>\n",
              "      <td>one</td>\n",
              "      <td>vikash</td>\n",
              "      <td>singh</td>\n",
              "    </tr>\n",
              "    <tr>\n",
              "      <th>0</th>\n",
              "      <td>14.0</td>\n",
              "      <td>NaN</td>\n",
              "      <td>NaN</td>\n",
              "      <td>NaN</td>\n",
              "      <td>NaN</td>\n",
              "      <td>NaN</td>\n",
              "      <td>NaN</td>\n",
              "      <td>NaN</td>\n",
              "      <td>NaN</td>\n",
              "      <td>NaN</td>\n",
              "      <td>NaN</td>\n",
              "      <td>NaN</td>\n",
              "      <td>NaN</td>\n",
              "      <td>data2</td>\n",
              "      <td>NaN</td>\n",
              "      <td>satyam</td>\n",
              "      <td>singh</td>\n",
              "    </tr>\n",
              "  </tbody>\n",
              "</table>\n",
              "</div>"
            ],
            "text/plain": [
              "    age glossary.GlossDiv.GlossList.GlossEntry.Abbrev  \\\n",
              "0   NaN                                 ISO 8879:1986   \n",
              "0   NaN                                 ISO 8879:1986   \n",
              "0  27.0                                           NaN   \n",
              "0  14.0                                           NaN   \n",
              "\n",
              "  glossary.GlossDiv.GlossList.GlossEntry.Acronym  \\\n",
              "0                                           SGML   \n",
              "0                                           SGML   \n",
              "0                                            NaN   \n",
              "0                                            NaN   \n",
              "\n",
              "  glossary.GlossDiv.GlossList.GlossEntry.GlossDef.GlossNEW.something  \\\n",
              "0                                               good                   \n",
              "0                                                NaN                   \n",
              "0                                                NaN                   \n",
              "0                                                NaN                   \n",
              "\n",
              "  glossary.GlossDiv.GlossList.GlossEntry.GlossDef.GlossSeeAlso  \\\n",
              "0                                         [GML, XML]             \n",
              "0                                         [GML, XML]             \n",
              "0                                                NaN             \n",
              "0                                                NaN             \n",
              "\n",
              "  glossary.GlossDiv.GlossList.GlossEntry.GlossDef.para  \\\n",
              "0  A meta-markup language, used to create markup ...     \n",
              "0  A meta-markup language, used to create markup ...     \n",
              "0                                                NaN     \n",
              "0                                                NaN     \n",
              "\n",
              "  glossary.GlossDiv.GlossList.GlossEntry.GlossSee  \\\n",
              "0                                          markup   \n",
              "0                                          markup   \n",
              "0                                             NaN   \n",
              "0                                             NaN   \n",
              "\n",
              "  glossary.GlossDiv.GlossList.GlossEntry.GlossTerm  \\\n",
              "0             Standard Generalized Markup Language   \n",
              "0             Standard Generalized Markup Language   \n",
              "0                                              NaN   \n",
              "0                                              NaN   \n",
              "\n",
              "  glossary.GlossDiv.GlossList.GlossEntry.ID  \\\n",
              "0                                      SGML   \n",
              "0                                      SGML   \n",
              "0                                       NaN   \n",
              "0                                       NaN   \n",
              "\n",
              "  glossary.GlossDiv.GlossList.GlossEntry.SortAs glossary.GlossDiv.title  \\\n",
              "0                                          SGML                       S   \n",
              "0                                          SGML                       S   \n",
              "0                                           NaN                     NaN   \n",
              "0                                           NaN                     NaN   \n",
              "\n",
              "  glossary.name    glossary.title    key name.features.one name.first  \\\n",
              "0           NaN  example glossary   test               NaN        NaN   \n",
              "0         Jaime  example glossary  test2               NaN        NaN   \n",
              "0           NaN               NaN  data1               one     vikash   \n",
              "0           NaN               NaN  data2               NaN     satyam   \n",
              "\n",
              "  name.last  \n",
              "0       NaN  \n",
              "0       NaN  \n",
              "0     singh  \n",
              "0     singh  "
            ]
          },
          "metadata": {
            "tags": []
          },
          "execution_count": 51
        }
      ]
    },
    {
      "metadata": {
        "id": "3aOP7HgyU0uB",
        "colab_type": "code",
        "colab": {
          "base_uri": "https://localhost:8080/",
          "height": 442
        },
        "outputId": "a2069c81-6147-4b22-9d82-63b5cfbbb7ce"
      },
      "cell_type": "code",
      "source": [
        "dict1"
      ],
      "execution_count": 50,
      "outputs": [
        {
          "output_type": "execute_result",
          "data": {
            "text/plain": [
              "{'data1': {'age': 27,\n",
              "  'name': {'features': {'one': 'one'}, 'first': 'vikash', 'last': 'singh'}},\n",
              " 'data2': {'age': 14, 'name': {'first': 'satyam', 'last': 'singh'}},\n",
              " 'test': {'glossary': {'GlossDiv': {'GlossList': {'GlossEntry': {'Abbrev': 'ISO 8879:1986',\n",
              "      'Acronym': 'SGML',\n",
              "      'GlossDef': {'GlossNEW': {'something': 'good'},\n",
              "       'GlossSeeAlso': ['GML', 'XML'],\n",
              "       'para': 'A meta-markup language, used to create markup languages such as DocBook.'},\n",
              "      'GlossSee': 'markup',\n",
              "      'GlossTerm': 'Standard Generalized Markup Language',\n",
              "      'ID': 'SGML',\n",
              "      'SortAs': 'SGML'}},\n",
              "    'title': 'S'},\n",
              "   'title': 'example glossary'}},\n",
              " 'test2': {'glossary': {'GlossDiv': {'GlossList': {'GlossEntry': {'Abbrev': 'ISO 8879:1986',\n",
              "      'Acronym': 'SGML',\n",
              "      'GlossDef': {'GlossSeeAlso': ['GML', 'XML'],\n",
              "       'para': 'A meta-markup language, used to create markup languages such as DocBook.'},\n",
              "      'GlossSee': 'markup',\n",
              "      'GlossTerm': 'Standard Generalized Markup Language',\n",
              "      'ID': 'SGML',\n",
              "      'SortAs': 'SGML'}},\n",
              "    'title': 'S'},\n",
              "   'name': 'Jaime',\n",
              "   'title': 'example glossary'}}}"
            ]
          },
          "metadata": {
            "tags": []
          },
          "execution_count": 50
        }
      ]
    },
    {
      "metadata": {
        "id": "cYw5BO9TVCpj",
        "colab_type": "code",
        "colab": {}
      },
      "cell_type": "code",
      "source": [
        ""
      ],
      "execution_count": 0,
      "outputs": []
    }
  ]
}