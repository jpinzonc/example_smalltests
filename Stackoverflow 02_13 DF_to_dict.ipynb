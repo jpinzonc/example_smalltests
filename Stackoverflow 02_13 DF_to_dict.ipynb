{
 "cells": [
  {
   "cell_type": "markdown",
   "metadata": {},
   "source": [
    "https://stackoverflow.com/questions/54681743/create-dictionaries-from-pandas-dataframe-based-on-colums-values/54682025#54682025"
   ]
  },
  {
   "cell_type": "raw",
   "metadata": {},
   "source": [
    "    evtnum    pcode   energy\n",
    "1   1         a       20.0\n",
    "2   1         a       30.0\n",
    "3   1         b       29.0\n",
    "4   1         a       34.0\n",
    "5   2         c       20.0\n",
    "6   2         a       15.0\n",
    "7   3         a        3.0\n",
    "8   3         b        2.0 \n",
    "9   3         c       25.0\n",
    "10  4         h       28.0\n",
    "11  5         a       43.6\n",
    "12  5         c       20.3"
   ]
  },
  {
   "cell_type": "code",
   "execution_count": 1,
   "metadata": {},
   "outputs": [],
   "source": [
    "import pandas as pd\n",
    "import sys\n",
    "\n",
    "df = pd.read_clipboard()"
   ]
  },
  {
   "cell_type": "code",
   "execution_count": 2,
   "metadata": {},
   "outputs": [
    {
     "name": "stdout",
     "output_type": "stream",
     "text": [
      "1\n",
      "{'a': {'num_pcode': 3, 'mean_energy': 28.0}, 'b': {'num_pcode': 1, 'mean_energy': 29.0}}\n",
      "2\n",
      "{'a': {'num_pcode': 1, 'mean_energy': 15.0}, 'c': {'num_pcode': 1, 'mean_energy': 20.0}}\n",
      "3\n",
      "{'a': {'num_pcode': 1, 'mean_energy': 3.0}, 'b': {'num_pcode': 1, 'mean_energy': 2.0}, 'c': {'num_pcode': 1, 'mean_energy': 25.0}}\n",
      "4\n",
      "{'h': {'num_pcode': 1, 'mean_energy': 28.0}}\n",
      "5\n",
      "{'a': {'num_pcode': 1, 'mean_energy': 43.6}, 'c': {'num_pcode': 1, 'mean_energy': 20.3}}\n"
     ]
    }
   ],
   "source": [
    "thismodule = sys.modules[__name__]\n",
    "\n",
    "df1 = df.groupby(['evtnum', 'pcode']).agg({'pcode':'size', 'energy':'mean'}).rename(columns={'pcode': 'num_pcode',\n",
    "                                                                                             'energy':'mean_energy'}).reset_index(drop = False)\n",
    "\n",
    "for evt in df1.evtnum.unique():\n",
    "    name = 'dict_'+str(evt)\n",
    "    df_ = df1\n",
    "    df_ = df_[df_.evtnum==evt].drop('evtnum', 1).set_index('pcode').to_dict('index')\n",
    "    setattr(thismodule, name, df_)\n",
    "\n",
    "for number in range(max(df1.reset_index().evtnum.unique())):\n",
    "    print( number+1)\n",
    "    print(eval('dict_'+str(number+1)))"
   ]
  }
 ],
 "metadata": {
  "kernelspec": {
   "display_name": "Python 3",
   "language": "python",
   "name": "python3"
  },
  "language_info": {
   "codemirror_mode": {
    "name": "ipython",
    "version": 3
   },
   "file_extension": ".py",
   "mimetype": "text/x-python",
   "name": "python",
   "nbconvert_exporter": "python",
   "pygments_lexer": "ipython3",
   "version": "3.6.8"
  }
 },
 "nbformat": 4,
 "nbformat_minor": 2
}
