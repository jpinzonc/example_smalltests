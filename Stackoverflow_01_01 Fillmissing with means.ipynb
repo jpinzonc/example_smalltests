{
 "cells": [
  {
   "cell_type": "code",
   "execution_count": 2,
   "metadata": {},
   "outputs": [
    {
     "name": "stdout",
     "output_type": "stream",
     "text": [
      "     A    B  C\n",
      "0  1.0  3.0  4\n",
      "1  2.0  NaN  5\n",
      "2  NaN  NaN  6 \n",
      "\n",
      "     A    C    B\n",
      "0  1.0  3.0  4.0\n",
      "1  2.0  3.0  5.0\n",
      "2  1.5  3.0  6.0\n"
     ]
    }
   ],
   "source": [
    "import pandas as pd\n",
    "from sklearn.impute import SimpleImputer\n",
    "\n",
    "table = pd.DataFrame({'A':[1,2,np.nan],\n",
    "                  'B':[3,np.nan, np.nan],\n",
    "                  'C':[4,5,6]})\n",
    "print(table, '\\n')\n",
    "imp = SimpleImputer(missing_values=np.nan, strategy='mean')\n",
    "table_means = pd.DataFrame(imp.fit_transform(table), columns = {'C','B','A'})\n",
    "print(table_means)"
   ]
  },
  {
   "cell_type": "code",
   "execution_count": null,
   "metadata": {},
   "outputs": [],
   "source": []
  }
 ],
 "metadata": {
  "kernelspec": {
   "display_name": "Python 3",
   "language": "python",
   "name": "python3"
  },
  "language_info": {
   "codemirror_mode": {
    "name": "ipython",
    "version": 3
   },
   "file_extension": ".py",
   "mimetype": "text/x-python",
   "name": "python",
   "nbconvert_exporter": "python",
   "pygments_lexer": "ipython3",
   "version": "3.6.5"
  }
 },
 "nbformat": 4,
 "nbformat_minor": 2
}
